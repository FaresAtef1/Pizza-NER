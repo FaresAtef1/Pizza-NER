{
 "cells": [
  {
   "cell_type": "code",
   "execution_count": null,
   "metadata": {},
   "outputs": [],
   "source": [
    "import csv\n",
    "\n",
    "def read_and_print_csvs(file1, file2):\n",
    "    with open(file1, mode='r', encoding='utf-8') as f1, open(file2, mode='r', encoding='utf-8') as f2:\n",
    "        reader1 = csv.reader(f1)\n",
    "        reader2 = csv.reader(f2)\n",
    "\n",
    "        headers1 = next(reader1, None)\n",
    "        headers2 = next(reader2, None)\n",
    "        print(f\"File 1 Headers: {headers1}\")\n",
    "        print(f\"File 2 Headers: {headers2}\")\n",
    "\n",
    "        for row1, row2 in zip(reader1, reader2):\n",
    "            if row1 != row2:\n",
    "                print(f\"Row 1: {row1}\")\n",
    "                print(f\"Row 2: {row2}\")\n",
    "                print()\n",
    "\n",
    "# Replace with the paths to your CSV files\n",
    "file1 = 'w2v_results_mindiff.csv'\n",
    "file2 = 'w2v_results.csv'\n",
    "read_and_print_csvs(file1, file2)"
   ]
  },
  {
   "cell_type": "code",
   "execution_count": null,
   "metadata": {},
   "outputs": [],
   "source": []
  }
 ],
 "metadata": {
  "kernelspec": {
   "display_name": "Python 3",
   "language": "python",
   "name": "python3"
  },
  "language_info": {
   "codemirror_mode": {
    "name": "ipython",
    "version": 3
   },
   "file_extension": ".py",
   "mimetype": "text/x-python",
   "name": "python",
   "nbconvert_exporter": "python",
   "pygments_lexer": "ipython3",
   "version": "3.11.0"
  }
 },
 "nbformat": 4,
 "nbformat_minor": 2
}
