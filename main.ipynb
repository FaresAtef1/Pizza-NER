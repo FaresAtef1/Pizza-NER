{
 "cells": [
  {
   "cell_type": "code",
   "execution_count": null,
   "metadata": {},
   "outputs": [],
   "source": [
    "from gensim.test.utils import common_texts\n",
    "from gensim.models import Word2Vec\n",
    "import nltk\n",
    "import json\n",
    "VECTOR_SIZE=50\n",
    "WINDOW_SIZE=5\n",
    "THREADS=4\n",
    "CUTOFF_FREQ=1\n",
    "EPOCHS=100\n",
    "\n",
    "def list_of_lists(sentences):\n",
    "    tokenized_sentences=[]\n",
    "    for sentence in sentences:\n",
    "        tokenized_sentences.append(nltk.word_tokenize(sentence))\n",
    "    return tokenized_sentences\n",
    "\n",
    "def train_gensim_model(corpus):\n",
    "    tokenized_sentences=list_of_lists(corpus)\n",
    "    model = Word2Vec(sentences=tokenized_sentences, vector_size=VECTOR_SIZE, window=WINDOW_SIZE, min_count=CUTOFF_FREQ, workers=THREADS)\n",
    "    model.build_vocab(tokenized_sentences)\n",
    "    model.train(corpus_iterable=tokenized_sentences,total_examples=model.corpus_count,epochs=EPOCHS)\n",
    "    print(model.corpus_count)\n",
    "    return model\n",
    "\n",
    "def read_data(path):\n",
    "    with open(path,'r') as file:\n",
    "        data = json.load(file)\n",
    "    return data\n",
    "\n",
    "def fix_json_file(path):\n",
    "    fixed_file=open(\"fixed_\"+path,\"a\")\n",
    "    fixed_file.write(\"[\\n\")\n",
    "    with open(path,'r') as file:\n",
    "        for line in file:\n",
    "            fixed_file.write(line[:-1]+\",\\n\")\n",
    "    fixed_file.seek(fixed_file.tell()-3)\n",
    "    fixed_file.truncate()\n",
    "    fixed_file.write(\"]\")\n",
    "    fixed_file.close()\n",
    "        "
   ]
  },
  {
   "cell_type": "code",
   "execution_count": null,
   "metadata": {},
   "outputs": [],
   "source": [
    "data=read_data(\"D:/CMP/4/1/NLP/Project/data/fixed_PIZZA_dev.json\")\n",
    "corpus=[]\n",
    "for d in data:\n",
    "    corpus.append(d[\"dev.SRC\"])\n",
    "model=train_gensim_model(corpus)\n"
   ]
  },
  {
   "cell_type": "code",
   "execution_count": null,
   "metadata": {},
   "outputs": [],
   "source": [
    "print(model.wv.key_to_index.keys())"
   ]
  },
  {
   "cell_type": "code",
   "execution_count": null,
   "metadata": {},
   "outputs": [],
   "source": [
    "tokenized_sentences=list_of_lists(corpus)\n",
    "for sentence in tokenized_sentences:\n",
    "    for word in sentence:\n",
    "        print(word,model.wv.most_similar(word))"
   ]
  },
  {
   "cell_type": "code",
   "execution_count": null,
   "metadata": {},
   "outputs": [],
   "source": [
    "import gensim.downloader\n",
    "glove_vectors = gensim.downloader.load('glove-twitter-25')\n",
    "\n",
    "glove_vectors.most_similar('twitter')\n"
   ]
  },
  {
   "cell_type": "code",
   "execution_count": null,
   "metadata": {},
   "outputs": [],
   "source": [
    "glove_vectors = gensim.downloader.load('glove-wiki-gigaword-50')\n",
    "glove_vectors.most_similar('very')\n"
   ]
  },
  {
   "cell_type": "code",
   "execution_count": null,
   "metadata": {},
   "outputs": [],
   "source": [
    "glove_vectors.vector_size"
   ]
  },
  {
   "cell_type": "code",
   "execution_count": null,
   "metadata": {},
   "outputs": [],
   "source": [
    "from transformers import BertTokenizer, BertModel\n",
    "import pandas as pd\n",
    "import numpy as np\n",
    "import torch"
   ]
  },
  {
   "cell_type": "code",
   "execution_count": null,
   "metadata": {},
   "outputs": [],
   "source": [
    "model = BertModel.from_pretrained(\"bert-base-uncased\",output_hidden_states = True,)\n",
    "tokenizer = BertTokenizer.from_pretrained(\"bert-base-uncased\")\n",
    "def bert_text_preparation(text, tokenizer):\n",
    "    marked_text = \"[CLS] \" + text + \" [SEP]\"\n",
    "    tokenized_text = tokenizer.tokenize(marked_text)\n",
    "    indexed_tokens = tokenizer.convert_tokens_to_ids(tokenized_text)\n",
    "    segments_ids = [1]*len(indexed_tokens)\n",
    "    tokens_tensor = torch.tensor([indexed_tokens])\n",
    "    segments_tensors = torch.tensor([segments_ids])\n",
    "\n",
    "    return tokenized_text, tokens_tensor, segments_tensors\n",
    "\n",
    "def get_bert_embeddings(tokens_tensor, segments_tensors, model):\n",
    "    with torch.no_grad():\n",
    "        outputs = model(tokens_tensor, segments_tensors)\n",
    "        hidden_states = outputs[2][1:]\n",
    "    token_embeddings = hidden_states[-1]\n",
    "    token_embeddings = torch.squeeze(token_embeddings, dim=0)\n",
    "    list_token_embeddings = [token_embed.tolist() for token_embed in token_embeddings]\n",
    "\n",
    "    return list_token_embeddings\n",
    "\n"
   ]
  },
  {
   "cell_type": "code",
   "execution_count": null,
   "metadata": {},
   "outputs": [],
   "source": [
    "texts = [\"bank\",\n",
    "        \"The river bank was flooded.\",\n",
    "        \"The bank vault was robust.\",\n",
    "        \"He had to bank on her for support.\",\n",
    "        \"The bank was out of money.\",\n",
    "        \"The bank teller was a man.\"]\n",
    "target_word_embeddings = []\n",
    "\n",
    "for text in texts:\n",
    "    tokenized_text, tokens_tensor, segments_tensors = bert_text_preparation(text, tokenizer)\n",
    "    list_token_embeddings = get_bert_embeddings(tokens_tensor, segments_tensors, model)\n",
    "    \n",
    "    word_index = tokenized_text.index('bank')\n",
    "    word_embedding = list_token_embeddings[word_index]\n",
    "\n",
    "    target_word_embeddings.append(word_embedding)\n"
   ]
  },
  {
   "cell_type": "code",
   "execution_count": null,
   "metadata": {},
   "outputs": [],
   "source": [
    "print(len(target_word_embeddings))"
   ]
  },
  {
   "cell_type": "code",
   "execution_count": null,
   "metadata": {},
   "outputs": [],
   "source": []
  }
 ],
 "metadata": {
  "kernelspec": {
   "display_name": "venv",
   "language": "python",
   "name": "python3"
  },
  "language_info": {
   "codemirror_mode": {
    "name": "ipython",
    "version": 3
   },
   "file_extension": ".py",
   "mimetype": "text/x-python",
   "name": "python",
   "nbconvert_exporter": "python",
   "pygments_lexer": "ipython3",
   "version": "3.12.7"
  }
 },
 "nbformat": 4,
 "nbformat_minor": 2
}
