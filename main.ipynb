{
 "cells": [
  {
   "cell_type": "code",
   "execution_count": 1,
   "metadata": {},
   "outputs": [],
   "source": [
    "import utils\n",
    "import feature_extractor\n",
    "import torch\n",
    "import torch.nn as nn\n",
    "from torch.utils.data import DataLoader, Dataset\n",
    "from torch.nn.utils.rnn import pad_sequence, pack_padded_sequence, pad_packed_sequence"
   ]
  },
  {
   "cell_type": "markdown",
   "metadata": {},
   "source": [
    "# Constant Definition"
   ]
  },
  {
   "cell_type": "code",
   "execution_count": 2,
   "metadata": {},
   "outputs": [],
   "source": [
    "NUM_CLASSES=19\n",
    "BATCH_SIZE=64\n",
    "EPOCHS=10\n",
    "HIDDEN_SIZE=64\n",
    "VECTOR_SIZE = 50  # Size of word vectors\n",
    "WINDOW_SIZE = 5  # Context window size\n",
    "THREADS = 4  # Number of threads to use for training\n",
    "CUTOFF_FREQ = 1  # Minimum frequency for a word to be included in vocabulary\n",
    "TRAINING_SIZE = 100000  \n",
    "TEST_SIZE = 10"
   ]
  },
  {
   "cell_type": "markdown",
   "metadata": {},
   "source": [
    "# reading dataset"
   ]
  },
  {
   "cell_type": "code",
   "execution_count": 3,
   "metadata": {},
   "outputs": [],
   "source": [
    "complete_data=utils.read_data(\"../data/fixed_PIZZA_train.json\")\n",
    "data = complete_data[:TRAINING_SIZE]\n",
    "corpus, top, decoupled = utils.get_train_dataset(data)"
   ]
  },
  {
   "cell_type": "code",
   "execution_count": 4,
   "metadata": {},
   "outputs": [],
   "source": [
    "entites_output_as_number_labels,intents_output_as_number_labels, input_as_tokenized_string=utils.label_complete_input(corpus, top, decoupled)"
   ]
  },
  {
   "cell_type": "markdown",
   "metadata": {},
   "source": [
    "# Embedding model"
   ]
  },
  {
   "cell_type": "code",
   "execution_count": 5,
   "metadata": {},
   "outputs": [],
   "source": [
    "emb_model = feature_extractor.train_gensim_w2v_model(input_as_tokenized_string, VECTOR_SIZE)"
   ]
  },
  {
   "cell_type": "markdown",
   "metadata": {},
   "source": [
    "# NER Model"
   ]
  },
  {
   "cell_type": "code",
   "execution_count": 6,
   "metadata": {},
   "outputs": [],
   "source": [
    "class LargeDataset(Dataset):\n",
    "    def __init__(self, data, labels):\n",
    "        self.data = data \n",
    "        self.labels = labels \n",
    "    \n",
    "    def __len__(self):\n",
    "        return len(self.data)\n",
    "    \n",
    "    def __getitem__(self, idx):\n",
    "        return self.data[idx], self.labels[idx]\n",
    "\n",
    "def collate_fn(batch):\n",
    "    sequences, labels = zip(*batch)\n",
    "    #I believe we can transform words into embeddings here\n",
    "    embeddings=[]\n",
    "    # print(sequences)\n",
    "    for seq in sequences:\n",
    "        x=[]\n",
    "        for token in seq:\n",
    "            x.append(emb_model.wv[token])\n",
    "        embeddings.append(x)\n",
    "    sequences=embeddings\n",
    "    labels = [torch.tensor(label, dtype=torch.long) for label in labels]\n",
    "    padded_labels = pad_sequence(labels, batch_first=True, padding_value=-1)\n",
    "    sequences = [torch.tensor(seq) for seq in sequences]\n",
    "    padded_sequences = pad_sequence(sequences, batch_first=True)\n",
    "    lengths = torch.tensor([len(seq) for seq in sequences], dtype=torch.long)\n",
    "    return padded_sequences, padded_labels, lengths\n",
    "\n",
    "class LargeWordRNN(nn.Module):\n",
    "    def __init__(self, input_size, hidden_size, num_classes):\n",
    "        super(LargeWordRNN, self).__init__()\n",
    "        self.rnn = nn.LSTM(input_size, hidden_size, batch_first=True, bidirectional=True)\n",
    "        self.fc = nn.Linear(hidden_size * 2, num_classes)\n",
    "    \n",
    "    def forward(self, x, lengths):\n",
    "        packed_x = pack_padded_sequence(x, lengths.cpu(), batch_first=True, enforce_sorted=False)\n",
    "        packed_out, _ = self.rnn(packed_x)\n",
    "        out, _ = pad_packed_sequence(packed_out, batch_first=True)\n",
    "        out = self.fc(out)\n",
    "        return out"
   ]
  },
  {
   "cell_type": "markdown",
   "metadata": {},
   "source": [
    "# Checking if CUDA is working"
   ]
  },
  {
   "cell_type": "code",
   "execution_count": 7,
   "metadata": {},
   "outputs": [
    {
     "name": "stdout",
     "output_type": "stream",
     "text": [
      "False\n",
      "None\n",
      "Using device: cpu\n"
     ]
    }
   ],
   "source": [
    "device = torch.device('cuda' if torch.cuda.is_available() else 'cpu')\n",
    "print(torch.cuda.is_available()) \n",
    "print(torch.version.cuda)\n",
    "print(f'Using device: {device}')"
   ]
  },
  {
   "cell_type": "markdown",
   "metadata": {},
   "source": [
    "# Training Model"
   ]
  },
  {
   "cell_type": "code",
   "execution_count": 8,
   "metadata": {},
   "outputs": [
    {
     "name": "stderr",
     "output_type": "stream",
     "text": [
      "C:\\Users\\DELL\\AppData\\Local\\Temp\\ipykernel_15088\\1783255267.py:25: UserWarning: Creating a tensor from a list of numpy.ndarrays is extremely slow. Please consider converting the list to a single numpy.ndarray with numpy.array() before converting to a tensor. (Triggered internally at C:\\actions-runner\\_work\\pytorch\\pytorch\\builder\\windows\\pytorch\\torch\\csrc\\utils\\tensor_new.cpp:281.)\n",
      "  sequences = [torch.tensor(seq) for seq in sequences]\n"
     ]
    },
    {
     "name": "stdout",
     "output_type": "stream",
     "text": [
      "Epoch 1, Loss: 0.0010\n",
      "Epoch 2, Loss: 0.0005\n",
      "Epoch 3, Loss: 0.0002\n",
      "Epoch 4, Loss: 0.0000\n",
      "Epoch 5, Loss: 0.0003\n",
      "Epoch 6, Loss: 0.0000\n",
      "Epoch 7, Loss: 0.0000\n",
      "Epoch 8, Loss: 0.0000\n",
      "Epoch 9, Loss: 0.0001\n",
      "Epoch 10, Loss: 0.0000\n"
     ]
    }
   ],
   "source": [
    "\n",
    "\n",
    "labels = entites_output_as_number_labels\n",
    "\n",
    "dataset = LargeDataset(input_as_tokenized_string, labels)\n",
    "dataloader = DataLoader(dataset, batch_size=BATCH_SIZE, collate_fn=collate_fn, shuffle=True, num_workers=0)\n",
    "\n",
    "model = LargeWordRNN(input_size=VECTOR_SIZE, hidden_size=HIDDEN_SIZE, num_classes=NUM_CLASSES).to(device)\n",
    "criterion = nn.CrossEntropyLoss(ignore_index=-1)\n",
    "optimizer = torch.optim.Adam(model.parameters(), lr=0.001)\n",
    "for epoch in range(EPOCHS): \n",
    "    for padded_sequences, padded_labels, lengths in dataloader:\n",
    "        padded_sequences=padded_sequences.to(device)\n",
    "        padded_labels=padded_labels.to(device)\n",
    "        lengths=lengths.to(device)\n",
    "        optimizer.zero_grad()\n",
    "        outputs = model(padded_sequences, lengths)\n",
    "        loss = criterion(outputs.view(-1, NUM_CLASSES), padded_labels.view(-1))\n",
    "        loss.backward()\n",
    "        optimizer.step()\n",
    "    print(f\"Epoch {epoch + 1}, Loss: {loss.item():.4f}\")\n"
   ]
  },
  {
   "cell_type": "code",
   "execution_count": null,
   "metadata": {},
   "outputs": [
    {
     "name": "stdout",
     "output_type": "stream",
     "text": [
      "[{'train.SRC': 'party sized meatlover pizza with extra banana peppers and extra peperonni', 'train.EXR': '(ORDER (PIZZAORDER (NUMBER 1 ) (SIZE PARTY_SIZE ) (STYLE MEAT_LOVER ) (COMPLEX_TOPPING (QUANTITY EXTRA ) (TOPPING BANANA_PEPPERS ) ) (COMPLEX_TOPPING (QUANTITY EXTRA ) (TOPPING PEPPERONI ) ) ) )', 'train.TOP': '(ORDER (PIZZAORDER (SIZE party sized ) (STYLE meatlover ) pizza with (COMPLEX_TOPPING (QUANTITY extra ) (TOPPING banana peppers ) ) and (COMPLEX_TOPPING (QUANTITY extra ) (TOPPING peperonni ) ) ) )', 'train.TOP-DECOUPLED': '(ORDER (PIZZAORDER (SIZE party sized ) (STYLE meatlover ) (COMPLEX_TOPPING (QUANTITY extra ) (TOPPING banana peppers ) ) (COMPLEX_TOPPING (QUANTITY extra ) (TOPPING peperonni ) ) ) )'}, {'train.SRC': \"i'd like a party sized pie with banana peppers and peperonni and kalamata olive\", 'train.EXR': '(ORDER (PIZZAORDER (NUMBER 1 ) (SIZE PARTY_SIZE ) (TOPPING BANANA_PEPPERS ) (TOPPING PEPPERONI ) (TOPPING KALAMATA_OLIVES ) ) )', 'train.TOP': \"(ORDER i'd like (PIZZAORDER (NUMBER a ) (SIZE party sized ) pie with (TOPPING banana peppers ) and (TOPPING peperonni ) and (TOPPING kalamata olive ) ) )\", 'train.TOP-DECOUPLED': '(ORDER (PIZZAORDER (NUMBER a ) (SIZE party sized ) (TOPPING banana peppers ) (TOPPING peperonni ) (TOPPING kalamata olive ) ) )'}, {'train.SRC': 'one party - size pie without any feta', 'train.EXR': '(ORDER (PIZZAORDER (NUMBER 1 ) (SIZE PARTY_SIZE ) (NOT (TOPPING FETA_CHEESE ) ) ) )', 'train.TOP': '(ORDER (PIZZAORDER (NUMBER one ) (SIZE party - size ) pie without any (NOT (TOPPING feta ) ) ) )', 'train.TOP-DECOUPLED': '(ORDER (PIZZAORDER (NUMBER one ) (SIZE party - size ) (NOT (TOPPING feta ) ) ) )'}, {'train.SRC': 'one personal pizza without carrots', 'train.EXR': '(ORDER (PIZZAORDER (NUMBER 1 ) (SIZE PERSONAL_SIZE ) (NOT (TOPPING CARROTS ) ) ) )', 'train.TOP': '(ORDER (PIZZAORDER (NUMBER one ) (SIZE personal ) pizza without (NOT (TOPPING carrots ) ) ) )', 'train.TOP-DECOUPLED': '(ORDER (PIZZAORDER (NUMBER one ) (SIZE personal ) (NOT (TOPPING carrots ) ) ) )'}, {'train.SRC': 'can i have one large pie with banana pepper and with parmesan cheese', 'train.EXR': '(ORDER (PIZZAORDER (NUMBER 1 ) (SIZE LARGE ) (TOPPING BANANA_PEPPERS ) (TOPPING PARMESAN_CHEESE ) ) )', 'train.TOP': '(ORDER can i have (PIZZAORDER (NUMBER one ) (SIZE large ) pie with (TOPPING banana pepper ) and with (TOPPING parmesan cheese ) ) )', 'train.TOP-DECOUPLED': '(ORDER (PIZZAORDER (NUMBER one ) (SIZE large ) (TOPPING banana pepper ) (TOPPING parmesan cheese ) ) )'}, {'train.SRC': 'can i have one party - size stuffed crusts pie with green olive', 'train.EXR': '(ORDER (PIZZAORDER (NUMBER 1 ) (SIZE PARTY_SIZE ) (STYLE STUFFED_CRUST ) (TOPPING GREEN_OLIVES ) ) )', 'train.TOP': '(ORDER can i have (PIZZAORDER (NUMBER one ) (SIZE party - size ) (STYLE stuffed crusts ) pie with (TOPPING green olive ) ) )', 'train.TOP-DECOUPLED': '(ORDER (PIZZAORDER (NUMBER one ) (SIZE party - size ) (STYLE stuffed crusts ) (TOPPING green olive ) ) )'}, {'train.SRC': 'party sized pie with american cheese and with not much parmesan', 'train.EXR': '(ORDER (PIZZAORDER (NUMBER 1 ) (SIZE PARTY_SIZE ) (TOPPING AMERICAN_CHEESE ) (COMPLEX_TOPPING (QUANTITY LIGHT ) (TOPPING PARMESAN_CHEESE ) ) ) )', 'train.TOP': '(ORDER (PIZZAORDER (SIZE party sized ) pie with (TOPPING american cheese ) and with (COMPLEX_TOPPING (QUANTITY not much ) (TOPPING parmesan ) ) ) )', 'train.TOP-DECOUPLED': '(ORDER (PIZZAORDER (SIZE party sized ) (TOPPING american cheese ) (COMPLEX_TOPPING (QUANTITY not much ) (TOPPING parmesan ) ) ) )'}, {'train.SRC': 'i need a party - size thick crusts pie with american cheese', 'train.EXR': '(ORDER (PIZZAORDER (NUMBER 1 ) (SIZE PARTY_SIZE ) (STYLE THICK_CRUST ) (TOPPING AMERICAN_CHEESE ) ) )', 'train.TOP': '(ORDER i need (PIZZAORDER (NUMBER a ) (SIZE party - size ) (STYLE thick crusts ) pie with (TOPPING american cheese ) ) )', 'train.TOP-DECOUPLED': '(ORDER (PIZZAORDER (NUMBER a ) (SIZE party - size ) (STYLE thick crusts ) (TOPPING american cheese ) ) )'}, {'train.SRC': 'one party - sized pie with banana peppers and peperoni', 'train.EXR': '(ORDER (PIZZAORDER (NUMBER 1 ) (SIZE PARTY_SIZE ) (TOPPING BANANA_PEPPERS ) (TOPPING PEPPERONI ) ) )', 'train.TOP': '(ORDER (PIZZAORDER (NUMBER one ) (SIZE party - sized ) pie with (TOPPING banana peppers ) and (TOPPING peperoni ) ) )', 'train.TOP-DECOUPLED': '(ORDER (PIZZAORDER (NUMBER one ) (SIZE party - sized ) (TOPPING banana peppers ) (TOPPING peperoni ) ) )'}, {'train.SRC': 'can i have one pizza with banana peppers and peperonni', 'train.EXR': '(ORDER (PIZZAORDER (NUMBER 1 ) (TOPPING BANANA_PEPPERS ) (TOPPING PEPPERONI ) ) )', 'train.TOP': '(ORDER can i have (PIZZAORDER (NUMBER one ) pizza with (TOPPING banana peppers ) and (TOPPING peperonni ) ) )', 'train.TOP-DECOUPLED': '(ORDER (PIZZAORDER (NUMBER one ) (TOPPING banana peppers ) (TOPPING peperonni ) ) )'}]\n",
      "---------------------------------------------\n",
      "[\"i 'd like a party size with banana peppers and a little bit of sauce\"]\n"
     ]
    }
   ],
   "source": [
    "test_data=complete_data[200000:200010]\n",
    "print(test_data)\n",
    "print(\"---------------------------------------------\")\n",
    "test_corpus,_,_= utils.get_train_dataset(test_data)\n",
    "print(test_corpus)\n",
    "test_as_tokenized_string=feature_extractor.list_of_lists(test_corpus)"
   ]
  },
  {
   "cell_type": "code",
   "execution_count": 10,
   "metadata": {},
   "outputs": [
    {
     "name": "stdout",
     "output_type": "stream",
     "text": [
      "[['party', 'sized', 'meatlover', 'pizza', 'with', 'extra', 'banana', 'peppers', 'and', 'extra', 'peperonni'], ['i', \"'d\", 'like', 'a', 'party', 'sized', 'pie', 'with', 'banana', 'peppers', 'and', 'peperonni', 'and', 'kalamata', 'olive'], ['one', 'party', '-', 'size', 'pie', 'without', 'any', 'feta'], ['one', 'personal', 'pizza', 'without', 'carrots'], ['can', 'i', 'have', 'one', 'large', 'pie', 'with', 'banana', 'pepper', 'and', 'with', 'parmesan', 'cheese'], ['can', 'i', 'have', 'one', 'party', '-', 'size', 'stuffed', 'crusts', 'pie', 'with', 'green', 'olive'], ['party', 'sized', 'pie', 'with', 'american', 'cheese', 'and', 'with', 'not', 'much', 'parmesan'], ['i', 'need', 'a', 'party', '-', 'size', 'thick', 'crusts', 'pie', 'with', 'american', 'cheese'], ['one', 'party', '-', 'sized', 'pie', 'with', 'banana', 'peppers', 'and', 'peperoni'], ['can', 'i', 'have', 'one', 'pizza', 'with', 'banana', 'peppers', 'and', 'peperonni']]\n"
     ]
    }
   ],
   "source": [
    "print(test_as_tokenized_string)"
   ]
  },
  {
   "cell_type": "code",
   "execution_count": null,
   "metadata": {},
   "outputs": [
    {
     "name": "stdout",
     "output_type": "stream",
     "text": [
      "['i', \"'d\", 'like', 'a', 'party', 'size', 'with', 'banana', 'peppers', 'and', 'a', 'little', 'bit', 'of', 'sauce']\n",
      "-------------------------------\n"
     ]
    },
    {
     "ename": "TypeError",
     "evalue": "'collections.OrderedDict' object is not callable",
     "output_type": "error",
     "traceback": [
      "\u001b[1;31m---------------------------------------------------------------------------\u001b[0m",
      "\u001b[1;31mTypeError\u001b[0m                                 Traceback (most recent call last)",
      "Cell \u001b[1;32mIn[14], line 36\u001b[0m\n\u001b[0;32m     34\u001b[0m padded_sequences\u001b[38;5;241m=\u001b[39mpadded_sequences\u001b[38;5;241m.\u001b[39mto(device)\n\u001b[0;32m     35\u001b[0m lengths\u001b[38;5;241m=\u001b[39mlengths\u001b[38;5;241m.\u001b[39mto(device)\n\u001b[1;32m---> 36\u001b[0m outputs \u001b[38;5;241m=\u001b[39m \u001b[43mloaded_model\u001b[49m\u001b[43m(\u001b[49m\u001b[43mpadded_sequences\u001b[49m\u001b[43m,\u001b[49m\u001b[43m \u001b[49m\u001b[43mlengths\u001b[49m\u001b[43m)\u001b[49m\n\u001b[0;32m     37\u001b[0m entity_to_num \u001b[38;5;241m=\u001b[39m {\u001b[38;5;124m\"\u001b[39m\u001b[38;5;124mI_NUMBER\u001b[39m\u001b[38;5;124m\"\u001b[39m: \u001b[38;5;241m0\u001b[39m, \u001b[38;5;124m\"\u001b[39m\u001b[38;5;124mI_SIZE\u001b[39m\u001b[38;5;124m\"\u001b[39m: \u001b[38;5;241m1\u001b[39m, \u001b[38;5;124m\"\u001b[39m\u001b[38;5;124mI_TOPPING\u001b[39m\u001b[38;5;124m\"\u001b[39m: \u001b[38;5;241m2\u001b[39m, \u001b[38;5;124m\"\u001b[39m\u001b[38;5;124mI_STYLE\u001b[39m\u001b[38;5;124m\"\u001b[39m: \u001b[38;5;241m3\u001b[39m, \u001b[38;5;124m\"\u001b[39m\u001b[38;5;124mI_DRINKTYPE\u001b[39m\u001b[38;5;124m\"\u001b[39m: \u001b[38;5;241m4\u001b[39m, \u001b[38;5;124m\"\u001b[39m\u001b[38;5;124mI_CONTAINERTYPE\u001b[39m\u001b[38;5;124m\"\u001b[39m: \u001b[38;5;241m5\u001b[39m, \u001b[38;5;124m\"\u001b[39m\u001b[38;5;124mI_VOLUME\u001b[39m\u001b[38;5;124m\"\u001b[39m: \u001b[38;5;241m6\u001b[39m, \u001b[38;5;124m\"\u001b[39m\u001b[38;5;124mI_QUANTITY\u001b[39m\u001b[38;5;124m\"\u001b[39m: \u001b[38;5;241m7\u001b[39m, \u001b[38;5;124m\"\u001b[39m\u001b[38;5;124mB_NUMBER\u001b[39m\u001b[38;5;124m\"\u001b[39m: \u001b[38;5;241m8\u001b[39m, \u001b[38;5;124m\"\u001b[39m\u001b[38;5;124mB_SIZE\u001b[39m\u001b[38;5;124m\"\u001b[39m: \u001b[38;5;241m9\u001b[39m, \u001b[38;5;124m\"\u001b[39m\u001b[38;5;124mB_TOPPING\u001b[39m\u001b[38;5;124m\"\u001b[39m: \u001b[38;5;241m10\u001b[39m, \u001b[38;5;124m\"\u001b[39m\u001b[38;5;124mB_STYLE\u001b[39m\u001b[38;5;124m\"\u001b[39m: \u001b[38;5;241m11\u001b[39m, \u001b[38;5;124m\"\u001b[39m\u001b[38;5;124mB_DRINKTYPE\u001b[39m\u001b[38;5;124m\"\u001b[39m: \u001b[38;5;241m12\u001b[39m, \u001b[38;5;124m\"\u001b[39m\u001b[38;5;124mB_CONTAINERTYPE\u001b[39m\u001b[38;5;124m\"\u001b[39m: \u001b[38;5;241m13\u001b[39m, \u001b[38;5;124m\"\u001b[39m\u001b[38;5;124mB_VOLUME\u001b[39m\u001b[38;5;124m\"\u001b[39m: \u001b[38;5;241m14\u001b[39m, \u001b[38;5;124m\"\u001b[39m\u001b[38;5;124mB_QUANTITY\u001b[39m\u001b[38;5;124m\"\u001b[39m: \u001b[38;5;241m15\u001b[39m, \u001b[38;5;124m\"\u001b[39m\u001b[38;5;124mI_NOT_TOPPING\u001b[39m\u001b[38;5;124m\"\u001b[39m: \u001b[38;5;241m16\u001b[39m, \u001b[38;5;124m\"\u001b[39m\u001b[38;5;124mB_NOT_TOPPING\u001b[39m\u001b[38;5;124m\"\u001b[39m: \u001b[38;5;241m17\u001b[39m, \u001b[38;5;124m\"\u001b[39m\u001b[38;5;124mNONE\u001b[39m\u001b[38;5;124m\"\u001b[39m: \u001b[38;5;241m18\u001b[39m}\n\u001b[0;32m     38\u001b[0m \u001b[38;5;28;01mfor\u001b[39;00m i, out \u001b[38;5;129;01min\u001b[39;00m \u001b[38;5;28menumerate\u001b[39m(outputs[\u001b[38;5;241m0\u001b[39m]):\n",
      "\u001b[1;31mTypeError\u001b[0m: 'collections.OrderedDict' object is not callable"
     ]
    }
   ],
   "source": [
    "class TestLargeDataset(Dataset):\n",
    "    def __init__(self, data):\n",
    "        self.data = data \n",
    "    \n",
    "    def __len__(self):\n",
    "        return len(self.data)\n",
    "    \n",
    "    def __getitem__(self, idx):\n",
    "        return self.data[idx]\n",
    "\n",
    "def test_collate_fn(batch):\n",
    "    sequences = batch\n",
    "    #I believe we can transform words into embeddings here\n",
    "    embeddings=[]\n",
    "    for seq in sequences:\n",
    "        print(seq)\n",
    "        x=[]\n",
    "        for token in seq:\n",
    "            x.append(emb_model.wv[token])\n",
    "        embeddings.append(x)\n",
    "    sequences=embeddings\n",
    "    sequences = [torch.tensor(seq) for seq in sequences]\n",
    "    padded_sequences = pad_sequence(sequences, batch_first=True)\n",
    "    lengths = torch.tensor([len(seq) for seq in sequences], dtype=torch.long)\n",
    "    return padded_sequences, lengths\n",
    "\n",
    "\n",
    "test_as_tokenized_string\n",
    "dataset = TestLargeDataset(test_as_tokenized_string)\n",
    "dataloader = DataLoader(dataset, batch_size=1, collate_fn=test_collate_fn, shuffle=False, num_workers=0)\n",
    "\n",
    "for padded_sequences, lengths in dataloader:\n",
    "    print(\"-------------------------------\")\n",
    "    padded_sequences=padded_sequences.to(device)\n",
    "    lengths=lengths.to(device)\n",
    "    outputs = model(padded_sequences, lengths)\n",
    "    entity_to_num = {\"I_NUMBER\": 0, \"I_SIZE\": 1, \"I_TOPPING\": 2, \"I_STYLE\": 3, \"I_DRINKTYPE\": 4, \"I_CONTAINERTYPE\": 5, \"I_VOLUME\": 6, \"I_QUANTITY\": 7, \"B_NUMBER\": 8, \"B_SIZE\": 9, \"B_TOPPING\": 10, \"B_STYLE\": 11, \"B_DRINKTYPE\": 12, \"B_CONTAINERTYPE\": 13, \"B_VOLUME\": 14, \"B_QUANTITY\": 15, \"I_NOT_TOPPING\": 16, \"B_NOT_TOPPING\": 17, \"NONE\": 18}\n",
    "    for i, out in enumerate(outputs[0]):\n",
    "        num = torch.argmax(out).int().item()\n",
    "        for key, value in entity_to_num.items():\n",
    "            if value == num:\n",
    "                print(key)\n",
    "                break\n",
    "\n",
    "\n",
    "    \n",
    "#  entity_to_num = {\"I_NUMBER\": 0, \"I_SIZE\": 1, \"I_TOPPING\": 2, \"I_STYLE\": 3, \"I_DRINKTYPE\": 4, \"I_CONTAINERTYPE\": 5, \"I_VOLUME\": 6, \"I_QUANTITY\": 7, \"B_NUMBER\": 8, \"B_SIZE\": 9, \"B_TOPPING\": 10, \"B_STYLE\": 11, \"B_DRINKTYPE\": 12, \"B_CONTAINERTYPE\": 13, \"B_VOLUME\": 14, \"B_QUANTITY\": 15, \"I_NOT_TOPPING\": 16, \"B_NOT_TOPPING\": 17, \"NONE\": 18}\n"
   ]
  },
  {
   "cell_type": "code",
   "execution_count": 12,
   "metadata": {},
   "outputs": [],
   "source": [
    "    entity_to_num = {\"I_NUMBER\": 0, \"I_SIZE\": 1, \"I_TOPPING\": 2, \"I_STYLE\": 3, \"I_DRINKTYPE\": 4, \"I_CONTAINERTYPE\": 5, \"I_VOLUME\": 6, \"I_QUANTITY\": 7, \"B_NUMBER\": 8, \"B_SIZE\": 9, \"B_TOPPING\": 10, \"B_STYLE\": 11, \"B_DRINKTYPE\": 12, \"B_CONTAINERTYPE\": 13, \"B_VOLUME\": 14, \"B_QUANTITY\": 15, \"I_NOT_TOPPING\": 16, \"B_NOT_TOPPING\": 17, \"NONE\": 18}\n"
   ]
  }
 ],
 "metadata": {
  "kernelspec": {
   "display_name": "Python 3",
   "language": "python",
   "name": "python3"
  },
  "language_info": {
   "codemirror_mode": {
    "name": "ipython",
    "version": 3
   },
   "file_extension": ".py",
   "mimetype": "text/x-python",
   "name": "python",
   "nbconvert_exporter": "python",
   "pygments_lexer": "ipython3",
   "version": "3.11.0"
  }
 },
 "nbformat": 4,
 "nbformat_minor": 2
}
