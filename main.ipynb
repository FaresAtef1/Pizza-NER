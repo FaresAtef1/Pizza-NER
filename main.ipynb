{
 "cells": [
  {
   "cell_type": "code",
   "execution_count": 59,
   "metadata": {},
   "outputs": [],
   "source": [
    "import format\n",
    "import utils\n",
    "import feature_extractor\n",
    "import torch\n",
    "import torch.nn as nn\n",
    "from torch.utils.data import DataLoader, Dataset\n",
    "from torch.nn.utils.rnn import pad_sequence, pack_padded_sequence, pad_packed_sequence"
   ]
  },
  {
   "cell_type": "markdown",
   "metadata": {},
   "source": [
    "# Constant Definition"
   ]
  },
  {
   "cell_type": "code",
   "execution_count": 60,
   "metadata": {},
   "outputs": [],
   "source": [
    "NUM_CLASSES=19\n",
    "BATCH_SIZE=64\n",
    "EPOCHS=20\n",
    "HIDDEN_SIZE=64\n",
    "VECTOR_SIZE = 50  # Size of word vectors\n",
    "WINDOW_SIZE = 5  # Context window size\n",
    "THREADS = 4  # Number of threads to use for training\n",
    "CUTOFF_FREQ = 1  # Minimum frequency for a word to be included in vocabulary"
   ]
  },
  {
   "cell_type": "markdown",
   "metadata": {},
   "source": [
    "# reading dataset"
   ]
  },
  {
   "cell_type": "code",
   "execution_count": 61,
   "metadata": {},
   "outputs": [],
   "source": [
    "data = utils.read_data(\"../data/fixed_PIZZA_train.json\")[:100000]\n",
    "corpus,top_tokenized,dec_tokenized= utils.get_train_dataset(data)"
   ]
  },
  {
   "cell_type": "code",
   "execution_count": 62,
   "metadata": {},
   "outputs": [],
   "source": [
    "entites_output_as_number_labels,intents_output_as_number_labels=utils.label_complete_input(corpus,top_tokenized,dec_tokenized)\n",
    "input_as_tokenized_string=feature_extractor.list_of_lists(corpus)"
   ]
  },
  {
   "cell_type": "markdown",
   "metadata": {},
   "source": [
    "# Embedding model"
   ]
  },
  {
   "cell_type": "code",
   "execution_count": 63,
   "metadata": {},
   "outputs": [],
   "source": [
    "emb_model = feature_extractor.train_gensim_w2v_model(corpus)"
   ]
  },
  {
   "cell_type": "markdown",
   "metadata": {},
   "source": [
    "# NER Model"
   ]
  },
  {
   "cell_type": "code",
   "execution_count": null,
   "metadata": {},
   "outputs": [],
   "source": [
    "class LargeDataset(Dataset):\n",
    "    def __init__(self, data, labels):\n",
    "        self.data = data \n",
    "        self.labels = labels \n",
    "    \n",
    "    def __len__(self):\n",
    "        return len(self.data)\n",
    "    \n",
    "    def __getitem__(self, idx):\n",
    "        return self.data[idx], self.labels[idx]\n",
    "\n",
    "def collate_fn(batch):\n",
    "    sequences, labels = zip(*batch)\n",
    "    #I believe we can transform words into embeddings here\n",
    "    embeddings=[]\n",
    "    print(sequences)\n",
    "    for seq in sequences:\n",
    "        x=[]\n",
    "        for token in seq:\n",
    "            x.append(emb_model.wv[token])\n",
    "        embeddings.append(x)\n",
    "    sequences=embeddings\n",
    "    labels = [torch.tensor(label, dtype=torch.long) for label in labels]\n",
    "    padded_labels = pad_sequence(labels, batch_first=True, padding_value=-1)\n",
    "    sequences = [torch.tensor(seq) for seq in sequences]\n",
    "    padded_sequences = pad_sequence(sequences, batch_first=True)\n",
    "    lengths = torch.tensor([len(seq) for seq in sequences], dtype=torch.long)\n",
    "    return padded_sequences, padded_labels, lengths\n",
    "\n",
    "class LargeWordRNN(nn.Module):\n",
    "    def __init__(self, input_size, hidden_size, num_classes):\n",
    "        super(LargeWordRNN, self).__init__()\n",
    "        self.rnn = nn.LSTM(input_size, hidden_size, batch_first=True, bidirectional=True)\n",
    "        self.fc = nn.Linear(hidden_size * 2, num_classes)\n",
    "    \n",
    "    def forward(self, x, lengths):\n",
    "        packed_x = pack_padded_sequence(x, lengths.cpu(), batch_first=True, enforce_sorted=False)\n",
    "        packed_out, _ = self.rnn(packed_x)\n",
    "        out, _ = pad_packed_sequence(packed_out, batch_first=True)\n",
    "        out = self.fc(out)\n",
    "        return out"
   ]
  },
  {
   "cell_type": "code",
   "execution_count": null,
   "metadata": {},
   "outputs": [
    {
     "name": "stdout",
     "output_type": "stream",
     "text": [
      "Using device: cpu\n",
      "Epoch 1, Loss: 0.0012\n",
      "Epoch 2, Loss: 0.0002\n",
      "Epoch 3, Loss: 0.0001\n",
      "Epoch 4, Loss: 0.0001\n",
      "Epoch 5, Loss: 0.0001\n",
      "Epoch 6, Loss: 0.0000\n",
      "Epoch 7, Loss: 0.0000\n",
      "Epoch 8, Loss: 0.0000\n",
      "Epoch 9, Loss: 0.0000\n",
      "Epoch 10, Loss: 0.0000\n",
      "Epoch 11, Loss: 0.0000\n",
      "Epoch 12, Loss: 0.0000\n",
      "Epoch 13, Loss: 0.0000\n",
      "Epoch 14, Loss: 0.0000\n",
      "Epoch 15, Loss: 0.0000\n",
      "Epoch 16, Loss: 0.0000\n",
      "Epoch 17, Loss: 0.0000\n",
      "Epoch 18, Loss: 0.0000\n",
      "Epoch 19, Loss: 0.0000\n",
      "Epoch 20, Loss: 0.0000\n"
     ]
    }
   ],
   "source": [
    "device = torch.device('cuda' if torch.cuda.is_available() else 'cpu')\n",
    "print(f'Using device: {device}')\n",
    "\n",
    "\n",
    "labels = entites_output_as_number_labels\n",
    "\n",
    "dataset = LargeDataset(input_as_tokenized_string, labels)\n",
    "dataloader = DataLoader(dataset, batch_size=BATCH_SIZE, collate_fn=collate_fn, shuffle=True, num_workers=0)\n",
    "\n",
    "model = LargeWordRNN(input_size=VECTOR_SIZE, hidden_size=HIDDEN_SIZE, num_classes=NUM_CLASSES).to(device)\n",
    "criterion = nn.CrossEntropyLoss(ignore_index=-1)\n",
    "optimizer = torch.optim.Adam(model.parameters(), lr=0.001)\n",
    "for epoch in range(EPOCHS): \n",
    "    for padded_sequences, padded_labels, lengths in dataloader:\n",
    "        # print(padded_sequences,padded_labels,lengths)\n",
    "        padded_sequences=padded_sequences.to(device)\n",
    "        padded_labels=padded_labels.to(device)\n",
    "        lengths=lengths.to(device)\n",
    "        optimizer.zero_grad()\n",
    "        outputs = model(padded_sequences, lengths)\n",
    "        loss = criterion(outputs.view(-1, NUM_CLASSES), padded_labels.view(-1))\n",
    "        loss.backward()\n",
    "        optimizer.step()\n",
    "    print(f\"Epoch {epoch + 1}, Loss: {loss.item():.4f}\")\n"
   ]
  },
  {
   "cell_type": "code",
   "execution_count": null,
   "metadata": {},
   "outputs": [
    {
     "name": "stdout",
     "output_type": "stream",
     "text": [
      "[['can', 'i', 'have', 'a', 'large', 'bbq', 'pulled', 'pork'], ['large', 'pie', 'with', 'green', 'pepper', 'and', 'with', 'extra', 'peperonni'], ['i', \"'d\", 'like', 'a', 'large', 'vegetarian', 'pizza'], ['party', 'size', 'stuffed', 'crust', 'pie', 'with', 'american', 'cheese', 'and', 'with', 'mushroom'], ['can', 'i', 'have', 'one', 'personal', 'sized', 'artichoke'], ['pie', 'with', 'banana', 'pepper', 'and', 'peppperonis', 'and', 'extra', 'low', 'fat', 'cheese'], ['i', 'want', 'one', 'regular', 'pizza', 'without', 'any', 'fried', 'onions'], ['i', 'want', 'a', 'stuffed', 'crust', 'pizza', 'with', 'american', 'cheese', 'and', 'a', 'little', 'bit', 'of', 'peperonni'], ['can', 'i', 'have', 'one', 'party', 'sized', 'high', 'rise', 'dough', 'pizza', 'with', 'american', 'cheese', 'and', 'a', 'lot', 'of', 'peperonni'], ['pie', 'with', 'green', 'olive', 'and', 'pesto', 'sauce']]\n",
      "(['can', 'i', 'have', 'one', 'personal', 'sized', 'artichoke'],)\n",
      "tensor(18)\n",
      "tensor(18)\n",
      "tensor(18)\n",
      "tensor(8)\n",
      "tensor(9)\n",
      "tensor(1)\n",
      "tensor(10)\n",
      "(['i', 'want', 'one', 'regular', 'pizza', 'without', 'any', 'fried', 'onions'],)\n",
      "tensor(18)\n",
      "tensor(18)\n",
      "tensor(8)\n",
      "tensor(9)\n",
      "tensor(18)\n",
      "tensor(18)\n",
      "tensor(18)\n",
      "tensor(17)\n",
      "tensor(16)\n",
      "(['party', 'size', 'stuffed', 'crust', 'pie', 'with', 'american', 'cheese', 'and', 'with', 'mushroom'],)\n",
      "tensor(9)\n",
      "tensor(1)\n",
      "tensor(11)\n",
      "tensor(3)\n",
      "tensor(18)\n",
      "tensor(18)\n",
      "tensor(10)\n",
      "tensor(2)\n",
      "tensor(18)\n",
      "tensor(18)\n",
      "tensor(10)\n",
      "(['can', 'i', 'have', 'one', 'party', 'sized', 'high', 'rise', 'dough', 'pizza', 'with', 'american', 'cheese', 'and', 'a', 'lot', 'of', 'peperonni'],)\n",
      "tensor(18)\n",
      "tensor(18)\n",
      "tensor(18)\n",
      "tensor(8)\n",
      "tensor(9)\n",
      "tensor(1)\n",
      "tensor(11)\n",
      "tensor(3)\n",
      "tensor(3)\n",
      "tensor(18)\n",
      "tensor(18)\n",
      "tensor(10)\n",
      "tensor(2)\n",
      "tensor(18)\n",
      "tensor(15)\n",
      "tensor(7)\n",
      "tensor(7)\n",
      "tensor(10)\n",
      "(['i', \"'d\", 'like', 'a', 'large', 'vegetarian', 'pizza'],)\n",
      "tensor(18)\n",
      "tensor(18)\n",
      "tensor(18)\n",
      "tensor(8)\n",
      "tensor(9)\n",
      "tensor(11)\n",
      "tensor(18)\n",
      "(['large', 'pie', 'with', 'green', 'pepper', 'and', 'with', 'extra', 'peperonni'],)\n",
      "tensor(9)\n",
      "tensor(18)\n",
      "tensor(18)\n",
      "tensor(10)\n",
      "tensor(2)\n",
      "tensor(18)\n",
      "tensor(18)\n",
      "tensor(15)\n",
      "tensor(10)\n",
      "(['i', 'want', 'a', 'stuffed', 'crust', 'pizza', 'with', 'american', 'cheese', 'and', 'a', 'little', 'bit', 'of', 'peperonni'],)\n",
      "tensor(18)\n",
      "tensor(18)\n",
      "tensor(8)\n",
      "tensor(11)\n",
      "tensor(3)\n",
      "tensor(18)\n",
      "tensor(18)\n",
      "tensor(10)\n",
      "tensor(2)\n",
      "tensor(18)\n",
      "tensor(8)\n",
      "tensor(7)\n",
      "tensor(7)\n",
      "tensor(7)\n",
      "tensor(10)\n",
      "(['can', 'i', 'have', 'a', 'large', 'bbq', 'pulled', 'pork'],)\n",
      "tensor(18)\n",
      "tensor(18)\n",
      "tensor(18)\n",
      "tensor(8)\n",
      "tensor(9)\n",
      "tensor(10)\n",
      "tensor(2)\n",
      "tensor(2)\n",
      "(['pie', 'with', 'green', 'olive', 'and', 'pesto', 'sauce'],)\n",
      "tensor(18)\n",
      "tensor(18)\n",
      "tensor(10)\n",
      "tensor(2)\n",
      "tensor(18)\n",
      "tensor(10)\n",
      "tensor(2)\n",
      "(['pie', 'with', 'banana', 'pepper', 'and', 'peppperonis', 'and', 'extra', 'low', 'fat', 'cheese'],)\n",
      "tensor(18)\n",
      "tensor(18)\n",
      "tensor(10)\n",
      "tensor(2)\n",
      "tensor(18)\n",
      "tensor(10)\n",
      "tensor(18)\n",
      "tensor(15)\n",
      "tensor(10)\n",
      "tensor(2)\n",
      "tensor(2)\n"
     ]
    }
   ],
   "source": [
    "dataset = LargeDataset(input_as_tokenized_string[:10], labels[:10])\n",
    "dataloader = DataLoader(dataset, batch_size=1, collate_fn=collate_fn, shuffle=True, num_workers=0)\n",
    "print(dataset.data)\n",
    "\n",
    "for padded_sequences, padded_labels, lengths in dataloader:\n",
    "    \n",
    "    padded_sequences=padded_sequences.to(device)\n",
    "    padded_labels=padded_labels.to(device)\n",
    "    lengths=lengths.to(device)\n",
    "    outputs = model(padded_sequences, lengths)\n",
    "    for out in outputs[0]:\n",
    "        print(torch.argmax(out))"
   ]
  },
  {
   "cell_type": "code",
   "execution_count": null,
   "metadata": {},
   "outputs": [],
   "source": [
    "    entity_to_num = {\"I_NUMBER\": 0, \"I_SIZE\": 1, \"I_TOPPING\": 2, \"I_STYLE\": 3, \"I_DRINKTYPE\": 4, \"I_CONTAINERTYPE\": 5, \"I_VOLUME\": 6, \"I_QUANTITY\": 7, \"B_NUMBER\": 8, \"B_SIZE\": 9, \"B_TOPPING\": 10, \"B_STYLE\": 11, \"B_DRINKTYPE\": 12, \"B_CONTAINERTYPE\": 13, \"B_VOLUME\": 14, \"B_QUANTITY\": 15, \"I_NOT_TOPPING\": 16, \"B_NOT_TOPPING\": 17, \"NONE\": 18}\n"
   ]
  }
 ],
 "metadata": {
  "kernelspec": {
   "display_name": "venv",
   "language": "python",
   "name": "python3"
  },
  "language_info": {
   "codemirror_mode": {
    "name": "ipython",
    "version": 3
   },
   "file_extension": ".py",
   "mimetype": "text/x-python",
   "name": "python",
   "nbconvert_exporter": "python",
   "pygments_lexer": "ipython3",
   "version": "3.12.7"
  }
 },
 "nbformat": 4,
 "nbformat_minor": 2
}
