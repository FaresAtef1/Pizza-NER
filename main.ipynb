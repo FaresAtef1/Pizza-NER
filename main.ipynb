{
 "cells": [
  {
   "cell_type": "code",
   "execution_count": 13,
   "metadata": {},
   "outputs": [],
   "source": [
    "import utils\n",
    "import feature_extractor\n",
    "import torch\n",
    "import torch.nn as nn\n",
    "from torch.utils.data import DataLoader, Dataset\n",
    "from torch.nn.utils.rnn import pad_sequence, pack_padded_sequence, pad_packed_sequence"
   ]
  },
  {
   "cell_type": "markdown",
   "metadata": {},
   "source": [
    "# Constant Definition"
   ]
  },
  {
   "cell_type": "code",
   "execution_count": 14,
   "metadata": {},
   "outputs": [],
   "source": [
    "NUM_CLASSES=19\n",
    "BATCH_SIZE=64\n",
    "EPOCHS=10\n",
    "HIDDEN_SIZE=64\n",
    "VECTOR_SIZE = 50  # Size of word vectors\n",
    "WINDOW_SIZE = 5  # Context window size\n",
    "THREADS = 4  # Number of threads to use for training\n",
    "CUTOFF_FREQ = 1  # Minimum frequency for a word to be included in vocabulary"
   ]
  },
  {
   "cell_type": "markdown",
   "metadata": {},
   "source": [
    "# reading dataset"
   ]
  },
  {
   "cell_type": "code",
   "execution_count": 15,
   "metadata": {},
   "outputs": [],
   "source": [
    "complete_data=utils.read_data(\"../data/fixed_PIZZA_train.json\")\n",
    "data = complete_data[:100000]\n",
    "corpus,top_tokenized,dec_tokenized= utils.get_train_dataset(data)"
   ]
  },
  {
   "cell_type": "code",
   "execution_count": 16,
   "metadata": {},
   "outputs": [],
   "source": [
    "entites_output_as_number_labels,intents_output_as_number_labels=utils.label_complete_input(corpus,top_tokenized,dec_tokenized)\n",
    "input_as_tokenized_string=feature_extractor.list_of_lists(corpus)"
   ]
  },
  {
   "cell_type": "markdown",
   "metadata": {},
   "source": [
    "# Embedding model"
   ]
  },
  {
   "cell_type": "code",
   "execution_count": 17,
   "metadata": {},
   "outputs": [],
   "source": [
    "emb_model = feature_extractor.train_gensim_w2v_model(corpus)"
   ]
  },
  {
   "cell_type": "markdown",
   "metadata": {},
   "source": [
    "# NER Model"
   ]
  },
  {
   "cell_type": "code",
   "execution_count": 18,
   "metadata": {},
   "outputs": [],
   "source": [
    "class LargeDataset(Dataset):\n",
    "    def __init__(self, data, labels):\n",
    "        self.data = data \n",
    "        self.labels = labels \n",
    "    \n",
    "    def __len__(self):\n",
    "        return len(self.data)\n",
    "    \n",
    "    def __getitem__(self, idx):\n",
    "        return self.data[idx], self.labels[idx]\n",
    "\n",
    "def collate_fn(batch):\n",
    "    sequences, labels = zip(*batch)\n",
    "    #I believe we can transform words into embeddings here\n",
    "    embeddings=[]\n",
    "    # print(sequences)\n",
    "    for seq in sequences:\n",
    "        x=[]\n",
    "        for token in seq:\n",
    "            x.append(emb_model.wv[token])\n",
    "        embeddings.append(x)\n",
    "    sequences=embeddings\n",
    "    labels = [torch.tensor(label, dtype=torch.long) for label in labels]\n",
    "    padded_labels = pad_sequence(labels, batch_first=True, padding_value=-1)\n",
    "    sequences = [torch.tensor(seq) for seq in sequences]\n",
    "    padded_sequences = pad_sequence(sequences, batch_first=True)\n",
    "    lengths = torch.tensor([len(seq) for seq in sequences], dtype=torch.long)\n",
    "    return padded_sequences, padded_labels, lengths\n",
    "\n",
    "class LargeWordRNN(nn.Module):\n",
    "    def __init__(self, input_size, hidden_size, num_classes):\n",
    "        super(LargeWordRNN, self).__init__()\n",
    "        self.rnn = nn.LSTM(input_size, hidden_size, batch_first=True, bidirectional=True)\n",
    "        self.fc = nn.Linear(hidden_size * 2, num_classes)\n",
    "    \n",
    "    def forward(self, x, lengths):\n",
    "        packed_x = pack_padded_sequence(x, lengths.cpu(), batch_first=True, enforce_sorted=False)\n",
    "        packed_out, _ = self.rnn(packed_x)\n",
    "        out, _ = pad_packed_sequence(packed_out, batch_first=True)\n",
    "        out = self.fc(out)\n",
    "        return out"
   ]
  },
  {
   "cell_type": "markdown",
   "metadata": {},
   "source": [
    "# Checking if CUDA is working"
   ]
  },
  {
   "cell_type": "code",
   "execution_count": 19,
   "metadata": {},
   "outputs": [
    {
     "name": "stdout",
     "output_type": "stream",
     "text": [
      "True\n",
      "12.4\n",
      "Using device: cuda\n"
     ]
    }
   ],
   "source": [
    "device = torch.device('cuda' if torch.cuda.is_available() else 'cpu')\n",
    "print(torch.cuda.is_available()) \n",
    "print(torch.version.cuda)\n",
    "print(f'Using device: {device}')"
   ]
  },
  {
   "cell_type": "markdown",
   "metadata": {},
   "source": [
    "# Training Model"
   ]
  },
  {
   "cell_type": "code",
   "execution_count": null,
   "metadata": {},
   "outputs": [
    {
     "name": "stderr",
     "output_type": "stream",
     "text": [
      "C:\\Users\\Ghait\\AppData\\Local\\Temp\\ipykernel_19156\\1783255267.py:25: UserWarning: Creating a tensor from a list of numpy.ndarrays is extremely slow. Please consider converting the list to a single numpy.ndarray with numpy.array() before converting to a tensor. (Triggered internally at C:\\actions-runner\\_work\\pytorch\\pytorch\\builder\\windows\\pytorch\\torch\\csrc\\utils\\tensor_new.cpp:281.)\n",
      "  sequences = [torch.tensor(seq) for seq in sequences]\n"
     ]
    },
    {
     "name": "stdout",
     "output_type": "stream",
     "text": [
      "Epoch 1, Loss: 0.0009\n",
      "Epoch 2, Loss: 0.0007\n",
      "Epoch 3, Loss: 0.0001\n",
      "Epoch 4, Loss: 0.0001\n",
      "Epoch 5, Loss: 0.0000\n",
      "Epoch 6, Loss: 0.0000\n"
     ]
    }
   ],
   "source": [
    "\n",
    "\n",
    "labels = entites_output_as_number_labels\n",
    "\n",
    "dataset = LargeDataset(input_as_tokenized_string, labels)\n",
    "dataloader = DataLoader(dataset, batch_size=BATCH_SIZE, collate_fn=collate_fn, shuffle=True, num_workers=0)\n",
    "\n",
    "model = LargeWordRNN(input_size=VECTOR_SIZE, hidden_size=HIDDEN_SIZE, num_classes=NUM_CLASSES).to(device)\n",
    "criterion = nn.CrossEntropyLoss(ignore_index=-1)\n",
    "optimizer = torch.optim.Adam(model.parameters(), lr=0.001)\n",
    "for epoch in range(EPOCHS): \n",
    "    for padded_sequences, padded_labels, lengths in dataloader:\n",
    "        padded_sequences=padded_sequences.to(device)\n",
    "        padded_labels=padded_labels.to(device)\n",
    "        lengths=lengths.to(device)\n",
    "        optimizer.zero_grad()\n",
    "        outputs = model(padded_sequences, lengths)\n",
    "        loss = criterion(outputs.view(-1, NUM_CLASSES), padded_labels.view(-1))\n",
    "        loss.backward()\n",
    "        optimizer.step()\n",
    "    print(f\"Epoch {epoch + 1}, Loss: {loss.item():.4f}\")\n"
   ]
  },
  {
   "cell_type": "code",
   "execution_count": null,
   "metadata": {},
   "outputs": [
    {
     "name": "stdout",
     "output_type": "stream",
     "text": [
      "[{'train.SRC': 'can i have one personal sized pie with banana pepper and peperoni and yellow peppers', 'train.EXR': '(ORDER (PIZZAORDER (NUMBER 1 ) (SIZE PERSONAL_SIZE ) (TOPPING BANANA_PEPPERS ) (TOPPING PEPPERONI ) (TOPPING YELLOW_PEPPERS ) ) )', 'train.TOP': '(ORDER can i have (PIZZAORDER (NUMBER one ) (SIZE personal sized ) pie with (TOPPING banana pepper ) and (TOPPING peperoni ) and (TOPPING yellow peppers ) ) )', 'train.TOP-DECOUPLED': '(ORDER (PIZZAORDER (NUMBER one ) (SIZE personal sized ) (TOPPING banana pepper ) (TOPPING peperoni ) (TOPPING yellow peppers ) ) )'}, {'train.SRC': 'a pie with american cheese and extra meatball', 'train.EXR': '(ORDER (PIZZAORDER (NUMBER 1 ) (TOPPING AMERICAN_CHEESE ) (COMPLEX_TOPPING (QUANTITY EXTRA ) (TOPPING MEATBALLS ) ) ) )', 'train.TOP': '(ORDER (PIZZAORDER (NUMBER a ) pie with (TOPPING american cheese ) and (COMPLEX_TOPPING (QUANTITY extra ) (TOPPING meatball ) ) ) )', 'train.TOP-DECOUPLED': '(ORDER (PIZZAORDER (NUMBER a ) (TOPPING american cheese ) (COMPLEX_TOPPING (QUANTITY extra ) (TOPPING meatball ) ) ) )'}, {'train.SRC': 'party - sized pizza with green olive and peperonni and a lot of sauce', 'train.EXR': '(ORDER (PIZZAORDER (NUMBER 1 ) (SIZE PARTY_SIZE ) (TOPPING GREEN_OLIVES ) (TOPPING PEPPERONI ) (COMPLEX_TOPPING (QUANTITY EXTRA ) (TOPPING SAUCE ) ) ) )', 'train.TOP': '(ORDER (PIZZAORDER (SIZE party - sized ) pizza with (TOPPING green olive ) and (TOPPING peperonni ) and (COMPLEX_TOPPING (QUANTITY a lot of ) (TOPPING sauce ) ) ) )', 'train.TOP-DECOUPLED': '(ORDER (PIZZAORDER (SIZE party - sized ) (TOPPING green olive ) (TOPPING peperonni ) (COMPLEX_TOPPING (QUANTITY a lot of ) (TOPPING sauce ) ) ) )'}, {'train.SRC': 'i want one lunch - size pizza without any green olives', 'train.EXR': '(ORDER (PIZZAORDER (NUMBER 1 ) (SIZE LUNCH_SIZE ) (NOT (TOPPING GREEN_OLIVES ) ) ) )', 'train.TOP': '(ORDER i want (PIZZAORDER (NUMBER one ) (SIZE lunch - size ) pizza without any (NOT (TOPPING green olives ) ) ) )', 'train.TOP-DECOUPLED': '(ORDER (PIZZAORDER (NUMBER one ) (SIZE lunch - size ) (NOT (TOPPING green olives ) ) ) )'}, {'train.SRC': 'i want a lunch - sized pizza without any chorrizo', 'train.EXR': '(ORDER (PIZZAORDER (NUMBER 1 ) (SIZE LUNCH_SIZE ) (NOT (TOPPING CHORIZO ) ) ) )', 'train.TOP': '(ORDER i want (PIZZAORDER (NUMBER a ) (SIZE lunch - sized ) pizza without any (NOT (TOPPING chorrizo ) ) ) )', 'train.TOP-DECOUPLED': '(ORDER (PIZZAORDER (NUMBER a ) (SIZE lunch - sized ) (NOT (TOPPING chorrizo ) ) ) )'}, {'train.SRC': 'pizza with no chorizo', 'train.EXR': '(ORDER (PIZZAORDER (NUMBER 1 ) (NOT (TOPPING CHORIZO ) ) ) )', 'train.TOP': '(ORDER (PIZZAORDER pizza with no (NOT (TOPPING chorizo ) ) ) )', 'train.TOP-DECOUPLED': '(ORDER (PIZZAORDER (NOT (TOPPING chorizo ) ) ) )'}, {'train.SRC': 'i want a big new yorker pie with extra american cheese and with pecorino', 'train.EXR': '(ORDER (PIZZAORDER (NUMBER 1 ) (STYLE NEW_YORK_STYLE ) (COMPLEX_TOPPING (QUANTITY EXTRA ) (TOPPING AMERICAN_CHEESE ) ) (TOPPING PECORINO_CHEESE ) ) )', 'train.TOP': '(ORDER i want (PIZZAORDER (NUMBER a ) (STYLE big new yorker ) pie with (COMPLEX_TOPPING (QUANTITY extra ) (TOPPING american cheese ) ) and with (TOPPING pecorino ) ) )', 'train.TOP-DECOUPLED': '(ORDER (PIZZAORDER (NUMBER a ) (STYLE big new yorker ) (COMPLEX_TOPPING (QUANTITY extra ) (TOPPING american cheese ) ) (TOPPING pecorino ) ) )'}, {'train.SRC': 'one party sized combination pie with american cheese and with pecorino cheese', 'train.EXR': '(ORDER (PIZZAORDER (NUMBER 1 ) (SIZE PARTY_SIZE ) (STYLE COMBINATION ) (TOPPING AMERICAN_CHEESE ) (TOPPING PECORINO_CHEESE ) ) )', 'train.TOP': '(ORDER (PIZZAORDER (NUMBER one ) (SIZE party sized ) (STYLE combination ) pie with (TOPPING american cheese ) and with (TOPPING pecorino cheese ) ) )', 'train.TOP-DECOUPLED': '(ORDER (PIZZAORDER (NUMBER one ) (SIZE party sized ) (STYLE combination ) (TOPPING american cheese ) (TOPPING pecorino cheese ) ) )'}, {'train.SRC': \"i'd like a party size pie with banana peppers and peperonni and a little bit of sauce\", 'train.EXR': '(ORDER (PIZZAORDER (NUMBER 1 ) (SIZE PARTY_SIZE ) (TOPPING BANANA_PEPPERS ) (TOPPING PEPPERONI ) (COMPLEX_TOPPING (QUANTITY LIGHT ) (TOPPING SAUCE ) ) ) )', 'train.TOP': \"(ORDER i'd like (PIZZAORDER (NUMBER a ) (SIZE party size ) pie with (TOPPING banana peppers ) and (TOPPING peperonni ) and (COMPLEX_TOPPING (QUANTITY a little bit of ) (TOPPING sauce ) ) ) )\", 'train.TOP-DECOUPLED': '(ORDER (PIZZAORDER (NUMBER a ) (SIZE party size ) (TOPPING banana peppers ) (TOPPING peperonni ) (COMPLEX_TOPPING (QUANTITY a little bit of ) (TOPPING sauce ) ) ) )'}, {'train.SRC': 'a party - sized big meat pizza with extra american cheese and a lot of peperonni', 'train.EXR': '(ORDER (PIZZAORDER (NUMBER 1 ) (SIZE PARTY_SIZE ) (STYLE MEAT_LOVER ) (COMPLEX_TOPPING (QUANTITY EXTRA ) (TOPPING AMERICAN_CHEESE ) ) (COMPLEX_TOPPING (QUANTITY EXTRA ) (TOPPING PEPPERONI ) ) ) )', 'train.TOP': '(ORDER (PIZZAORDER (NUMBER a ) (SIZE party - sized ) (STYLE big meat ) pizza with (COMPLEX_TOPPING (QUANTITY extra ) (TOPPING american cheese ) ) and (COMPLEX_TOPPING (QUANTITY a lot of ) (TOPPING peperonni ) ) ) )', 'train.TOP-DECOUPLED': '(ORDER (PIZZAORDER (NUMBER a ) (SIZE party - sized ) (STYLE big meat ) (COMPLEX_TOPPING (QUANTITY extra ) (TOPPING american cheese ) ) (COMPLEX_TOPPING (QUANTITY a lot of ) (TOPPING peperonni ) ) ) )'}]\n",
      "---------------------------------------------\n",
      "['can i have one personal sized pie with banana pepper and peperoni and yellow peppers', 'a pie with american cheese and extra meatball', 'party - sized pizza with green olive and peperonni and a lot of sauce', 'i want one lunch - size pizza without any green olives', 'i want a lunch - sized pizza without any chorrizo', 'pizza with no chorizo', 'i want a big new yorker pie with extra american cheese and with pecorino', 'one party sized combination pie with american cheese and with pecorino cheese', \"i'd like a party size pie with banana peppers and peperonni and a little bit of sauce\", 'a party - sized big meat pizza with extra american cheese and a lot of peperonni']\n"
     ]
    }
   ],
   "source": [
    "test_data=complete_data[100000:100010]\n",
    "print(test_data)\n",
    "print(\"---------------------------------------------\")\n",
    "test_corpus,_,_= utils.get_train_dataset(test_data)\n",
    "print(test_corpus)\n",
    "test_as_tokenized_string=feature_extractor.list_of_lists(test_corpus)"
   ]
  },
  {
   "cell_type": "code",
   "execution_count": null,
   "metadata": {},
   "outputs": [
    {
     "name": "stdout",
     "output_type": "stream",
     "text": [
      "[['can', 'i', 'have', 'one', 'personal', 'sized', 'pie', 'with', 'banana', 'pepper', 'and', 'peperoni', 'and', 'yellow', 'peppers'], ['a', 'pie', 'with', 'american', 'cheese', 'and', 'extra', 'meatball'], ['party', '-', 'sized', 'pizza', 'with', 'green', 'olive', 'and', 'peperonni', 'and', 'a', 'lot', 'of', 'sauce'], ['i', 'want', 'one', 'lunch', '-', 'size', 'pizza', 'without', 'any', 'green', 'olives'], ['i', 'want', 'a', 'lunch', '-', 'sized', 'pizza', 'without', 'any', 'chorrizo'], ['pizza', 'with', 'no', 'chorizo'], ['i', 'want', 'a', 'big', 'new', 'yorker', 'pie', 'with', 'extra', 'american', 'cheese', 'and', 'with', 'pecorino'], ['one', 'party', 'sized', 'combination', 'pie', 'with', 'american', 'cheese', 'and', 'with', 'pecorino', 'cheese'], ['i', \"'d\", 'like', 'a', 'party', 'size', 'pie', 'with', 'banana', 'peppers', 'and', 'peperonni', 'and', 'a', 'little', 'bit', 'of', 'sauce'], ['a', 'party', '-', 'sized', 'big', 'meat', 'pizza', 'with', 'extra', 'american', 'cheese', 'and', 'a', 'lot', 'of', 'peperonni']]\n"
     ]
    }
   ],
   "source": [
    "print(test_as_tokenized_string)"
   ]
  },
  {
   "cell_type": "code",
   "execution_count": null,
   "metadata": {},
   "outputs": [
    {
     "name": "stdout",
     "output_type": "stream",
     "text": [
      "[['can', 'i', 'have', 'one', 'personal', 'sized', 'pie', 'with', 'banana', 'pepper', 'and', 'peperoni', 'and', 'yellow', 'peppers'], ['a', 'pie', 'with', 'american', 'cheese', 'and', 'extra', 'meatball'], ['party', '-', 'sized', 'pizza', 'with', 'green', 'olive', 'and', 'peperonni', 'and', 'a', 'lot', 'of', 'sauce'], ['i', 'want', 'one', 'lunch', '-', 'size', 'pizza', 'without', 'any', 'green', 'olives'], ['i', 'want', 'a', 'lunch', '-', 'sized', 'pizza', 'without', 'any', 'chorrizo'], ['pizza', 'with', 'no', 'chorizo'], ['i', 'want', 'a', 'big', 'new', 'yorker', 'pie', 'with', 'extra', 'american', 'cheese', 'and', 'with', 'pecorino'], ['one', 'party', 'sized', 'combination', 'pie', 'with', 'american', 'cheese', 'and', 'with', 'pecorino', 'cheese'], ['i', \"'d\", 'like', 'a', 'party', 'size', 'pie', 'with', 'banana', 'peppers', 'and', 'peperonni', 'and', 'a', 'little', 'bit', 'of', 'sauce'], ['a', 'party', '-', 'sized', 'big', 'meat', 'pizza', 'with', 'extra', 'american', 'cheese', 'and', 'a', 'lot', 'of', 'peperonni']]\n",
      "[['can', 'i', 'have', 'one', 'personal', 'sized', 'pie', 'with', 'banana', 'pepper', 'and', 'peperoni', 'and', 'yellow', 'peppers'], ['a', 'pie', 'with', 'american', 'cheese', 'and', 'extra', 'meatball'], ['party', '-', 'sized', 'pizza', 'with', 'green', 'olive', 'and', 'peperonni', 'and', 'a', 'lot', 'of', 'sauce'], ['i', 'want', 'one', 'lunch', '-', 'size', 'pizza', 'without', 'any', 'green', 'olives'], ['i', 'want', 'a', 'lunch', '-', 'sized', 'pizza', 'without', 'any', 'chorrizo'], ['pizza', 'with', 'no', 'chorizo'], ['i', 'want', 'a', 'big', 'new', 'yorker', 'pie', 'with', 'extra', 'american', 'cheese', 'and', 'with', 'pecorino'], ['one', 'party', 'sized', 'combination', 'pie', 'with', 'american', 'cheese', 'and', 'with', 'pecorino', 'cheese'], ['i', \"'d\", 'like', 'a', 'party', 'size', 'pie', 'with', 'banana', 'peppers', 'and', 'peperonni', 'and', 'a', 'little', 'bit', 'of', 'sauce'], ['a', 'party', '-', 'sized', 'big', 'meat', 'pizza', 'with', 'extra', 'american', 'cheese', 'and', 'a', 'lot', 'of', 'peperonni']]\n",
      "<zip object at 0x000002987143EA40>\n"
     ]
    },
    {
     "ename": "NameError",
     "evalue": "name 'emb_model' is not defined",
     "output_type": "error",
     "traceback": [
      "\u001b[1;31m---------------------------------------------------------------------------\u001b[0m",
      "\u001b[1;31mNameError\u001b[0m                                 Traceback (most recent call last)",
      "Cell \u001b[1;32mIn[12], line 34\u001b[0m\n\u001b[0;32m     31\u001b[0m dataloader \u001b[38;5;241m=\u001b[39m DataLoader(dataset, batch_size\u001b[38;5;241m=\u001b[39m\u001b[38;5;241m1\u001b[39m, collate_fn\u001b[38;5;241m=\u001b[39mtest_collate_fn, shuffle\u001b[38;5;241m=\u001b[39m\u001b[38;5;28;01mFalse\u001b[39;00m, num_workers\u001b[38;5;241m=\u001b[39m\u001b[38;5;241m0\u001b[39m)\n\u001b[0;32m     32\u001b[0m \u001b[38;5;28mprint\u001b[39m(dataset\u001b[38;5;241m.\u001b[39mdata)\n\u001b[1;32m---> 34\u001b[0m \u001b[38;5;28;43;01mfor\u001b[39;49;00m\u001b[43m \u001b[49m\u001b[43mpadded_sequences\u001b[49m\u001b[43m,\u001b[49m\u001b[43m \u001b[49m\u001b[43mlengths\u001b[49m\u001b[43m \u001b[49m\u001b[38;5;129;43;01min\u001b[39;49;00m\u001b[43m \u001b[49m\u001b[43mdataloader\u001b[49m\u001b[43m:\u001b[49m\n\u001b[0;32m     35\u001b[0m \u001b[43m    \u001b[49m\u001b[43mpadded_sequences\u001b[49m\u001b[38;5;241;43m=\u001b[39;49m\u001b[43mpadded_sequences\u001b[49m\u001b[38;5;241;43m.\u001b[39;49m\u001b[43mto\u001b[49m\u001b[43m(\u001b[49m\u001b[43mdevice\u001b[49m\u001b[43m)\u001b[49m\n\u001b[0;32m     36\u001b[0m \u001b[43m    \u001b[49m\u001b[43mlengths\u001b[49m\u001b[38;5;241;43m=\u001b[39;49m\u001b[43mlengths\u001b[49m\u001b[38;5;241;43m.\u001b[39;49m\u001b[43mto\u001b[49m\u001b[43m(\u001b[49m\u001b[43mdevice\u001b[49m\u001b[43m)\u001b[49m\n",
      "File \u001b[1;32md:\\CMP\\4\\1\\NLP\\Project\\Pizza-NER\\venv\\Lib\\site-packages\\torch\\utils\\data\\dataloader.py:701\u001b[0m, in \u001b[0;36m_BaseDataLoaderIter.__next__\u001b[1;34m(self)\u001b[0m\n\u001b[0;32m    698\u001b[0m \u001b[38;5;28;01mif\u001b[39;00m \u001b[38;5;28mself\u001b[39m\u001b[38;5;241m.\u001b[39m_sampler_iter \u001b[38;5;129;01mis\u001b[39;00m \u001b[38;5;28;01mNone\u001b[39;00m:\n\u001b[0;32m    699\u001b[0m     \u001b[38;5;66;03m# TODO(https://github.com/pytorch/pytorch/issues/76750)\u001b[39;00m\n\u001b[0;32m    700\u001b[0m     \u001b[38;5;28mself\u001b[39m\u001b[38;5;241m.\u001b[39m_reset()  \u001b[38;5;66;03m# type: ignore[call-arg]\u001b[39;00m\n\u001b[1;32m--> 701\u001b[0m data \u001b[38;5;241m=\u001b[39m \u001b[38;5;28;43mself\u001b[39;49m\u001b[38;5;241;43m.\u001b[39;49m\u001b[43m_next_data\u001b[49m\u001b[43m(\u001b[49m\u001b[43m)\u001b[49m\n\u001b[0;32m    702\u001b[0m \u001b[38;5;28mself\u001b[39m\u001b[38;5;241m.\u001b[39m_num_yielded \u001b[38;5;241m+\u001b[39m\u001b[38;5;241m=\u001b[39m \u001b[38;5;241m1\u001b[39m\n\u001b[0;32m    703\u001b[0m \u001b[38;5;28;01mif\u001b[39;00m (\n\u001b[0;32m    704\u001b[0m     \u001b[38;5;28mself\u001b[39m\u001b[38;5;241m.\u001b[39m_dataset_kind \u001b[38;5;241m==\u001b[39m _DatasetKind\u001b[38;5;241m.\u001b[39mIterable\n\u001b[0;32m    705\u001b[0m     \u001b[38;5;129;01mand\u001b[39;00m \u001b[38;5;28mself\u001b[39m\u001b[38;5;241m.\u001b[39m_IterableDataset_len_called \u001b[38;5;129;01mis\u001b[39;00m \u001b[38;5;129;01mnot\u001b[39;00m \u001b[38;5;28;01mNone\u001b[39;00m\n\u001b[0;32m    706\u001b[0m     \u001b[38;5;129;01mand\u001b[39;00m \u001b[38;5;28mself\u001b[39m\u001b[38;5;241m.\u001b[39m_num_yielded \u001b[38;5;241m>\u001b[39m \u001b[38;5;28mself\u001b[39m\u001b[38;5;241m.\u001b[39m_IterableDataset_len_called\n\u001b[0;32m    707\u001b[0m ):\n",
      "File \u001b[1;32md:\\CMP\\4\\1\\NLP\\Project\\Pizza-NER\\venv\\Lib\\site-packages\\torch\\utils\\data\\dataloader.py:757\u001b[0m, in \u001b[0;36m_SingleProcessDataLoaderIter._next_data\u001b[1;34m(self)\u001b[0m\n\u001b[0;32m    755\u001b[0m \u001b[38;5;28;01mdef\u001b[39;00m \u001b[38;5;21m_next_data\u001b[39m(\u001b[38;5;28mself\u001b[39m):\n\u001b[0;32m    756\u001b[0m     index \u001b[38;5;241m=\u001b[39m \u001b[38;5;28mself\u001b[39m\u001b[38;5;241m.\u001b[39m_next_index()  \u001b[38;5;66;03m# may raise StopIteration\u001b[39;00m\n\u001b[1;32m--> 757\u001b[0m     data \u001b[38;5;241m=\u001b[39m \u001b[38;5;28;43mself\u001b[39;49m\u001b[38;5;241;43m.\u001b[39;49m\u001b[43m_dataset_fetcher\u001b[49m\u001b[38;5;241;43m.\u001b[39;49m\u001b[43mfetch\u001b[49m\u001b[43m(\u001b[49m\u001b[43mindex\u001b[49m\u001b[43m)\u001b[49m  \u001b[38;5;66;03m# may raise StopIteration\u001b[39;00m\n\u001b[0;32m    758\u001b[0m     \u001b[38;5;28;01mif\u001b[39;00m \u001b[38;5;28mself\u001b[39m\u001b[38;5;241m.\u001b[39m_pin_memory:\n\u001b[0;32m    759\u001b[0m         data \u001b[38;5;241m=\u001b[39m _utils\u001b[38;5;241m.\u001b[39mpin_memory\u001b[38;5;241m.\u001b[39mpin_memory(data, \u001b[38;5;28mself\u001b[39m\u001b[38;5;241m.\u001b[39m_pin_memory_device)\n",
      "File \u001b[1;32md:\\CMP\\4\\1\\NLP\\Project\\Pizza-NER\\venv\\Lib\\site-packages\\torch\\utils\\data\\_utils\\fetch.py:55\u001b[0m, in \u001b[0;36m_MapDatasetFetcher.fetch\u001b[1;34m(self, possibly_batched_index)\u001b[0m\n\u001b[0;32m     53\u001b[0m \u001b[38;5;28;01melse\u001b[39;00m:\n\u001b[0;32m     54\u001b[0m     data \u001b[38;5;241m=\u001b[39m \u001b[38;5;28mself\u001b[39m\u001b[38;5;241m.\u001b[39mdataset[possibly_batched_index]\n\u001b[1;32m---> 55\u001b[0m \u001b[38;5;28;01mreturn\u001b[39;00m \u001b[38;5;28;43mself\u001b[39;49m\u001b[38;5;241;43m.\u001b[39;49m\u001b[43mcollate_fn\u001b[49m\u001b[43m(\u001b[49m\u001b[43mdata\u001b[49m\u001b[43m)\u001b[49m\n",
      "Cell \u001b[1;32mIn[12], line 19\u001b[0m, in \u001b[0;36mtest_collate_fn\u001b[1;34m(batch)\u001b[0m\n\u001b[0;32m     17\u001b[0m     x\u001b[38;5;241m=\u001b[39m[]\n\u001b[0;32m     18\u001b[0m     \u001b[38;5;28;01mfor\u001b[39;00m token \u001b[38;5;129;01min\u001b[39;00m seq:\n\u001b[1;32m---> 19\u001b[0m         x\u001b[38;5;241m.\u001b[39mappend(\u001b[43memb_model\u001b[49m\u001b[38;5;241m.\u001b[39mwv[token])\n\u001b[0;32m     20\u001b[0m     embeddings\u001b[38;5;241m.\u001b[39mappend(x)\n\u001b[0;32m     21\u001b[0m sequences\u001b[38;5;241m=\u001b[39membeddings\n",
      "\u001b[1;31mNameError\u001b[0m: name 'emb_model' is not defined"
     ]
    }
   ],
   "source": [
    "class TestLargeDataset(Dataset):\n",
    "    def __init__(self, data):\n",
    "        self.data = data \n",
    "    \n",
    "    def __len__(self):\n",
    "        return len(self.data)\n",
    "    \n",
    "    def __getitem__(self, idx):\n",
    "        return self.data[idx]\n",
    "\n",
    "def test_collate_fn(batch):\n",
    "    sequences = zip(*batch)\n",
    "    #I believe we can transform words into embeddings here\n",
    "    embeddings=[]\n",
    "    print(sequences)\n",
    "    for seq in sequences:\n",
    "        x=[]\n",
    "        for token in seq:\n",
    "            x.append(emb_model.wv[token])\n",
    "        embeddings.append(x)\n",
    "    sequences=embeddings\n",
    "    sequences = [torch.tensor(seq) for seq in sequences]\n",
    "    padded_sequences = pad_sequence(sequences, batch_first=True)\n",
    "    lengths = torch.tensor([len(seq) for seq in sequences], dtype=torch.long)\n",
    "    return padded_sequences, lengths\n",
    "\n",
    "\n",
    "print(test_as_tokenized_string)\n",
    "test_as_tokenized_string\n",
    "dataset = TestLargeDataset(test_as_tokenized_string)\n",
    "dataloader = DataLoader(dataset, batch_size=1, collate_fn=test_collate_fn, shuffle=False, num_workers=0)\n",
    "print(dataset.data)\n",
    "\n",
    "for padded_sequences, lengths in dataloader:\n",
    "    padded_sequences=padded_sequences.to(device)\n",
    "    lengths=lengths.to(device)\n",
    "    outputs = model(padded_sequences, lengths)\n",
    "    for out in outputs[0]:\n",
    "        print(torch.argmax(out))"
   ]
  },
  {
   "cell_type": "code",
   "execution_count": null,
   "metadata": {},
   "outputs": [],
   "source": [
    "    entity_to_num = {\"I_NUMBER\": 0, \"I_SIZE\": 1, \"I_TOPPING\": 2, \"I_STYLE\": 3, \"I_DRINKTYPE\": 4, \"I_CONTAINERTYPE\": 5, \"I_VOLUME\": 6, \"I_QUANTITY\": 7, \"B_NUMBER\": 8, \"B_SIZE\": 9, \"B_TOPPING\": 10, \"B_STYLE\": 11, \"B_DRINKTYPE\": 12, \"B_CONTAINERTYPE\": 13, \"B_VOLUME\": 14, \"B_QUANTITY\": 15, \"I_NOT_TOPPING\": 16, \"B_NOT_TOPPING\": 17, \"NONE\": 18}\n"
   ]
  }
 ],
 "metadata": {
  "kernelspec": {
   "display_name": "venv",
   "language": "python",
   "name": "python3"
  },
  "language_info": {
   "codemirror_mode": {
    "name": "ipython",
    "version": 3
   },
   "file_extension": ".py",
   "mimetype": "text/x-python",
   "name": "python",
   "nbconvert_exporter": "python",
   "pygments_lexer": "ipython3",
   "version": "3.12.7"
  }
 },
 "nbformat": 4,
 "nbformat_minor": 2
}
