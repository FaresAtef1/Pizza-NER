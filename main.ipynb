{
 "cells": [
  {
   "cell_type": "code",
   "execution_count": 39,
   "metadata": {},
   "outputs": [],
   "source": [
    "from gensim.test.utils import common_texts\n",
    "from gensim.models import Word2Vec\n",
    "import nltk\n",
    "import json\n",
    "\n",
    "\n",
    "def list_of_lists(sentences):\n",
    "    tokenized_sentences=[]\n",
    "    for sentence in sentences:\n",
    "        tokenized_sentences.append(nltk.word_tokenize(sentence))\n",
    "    return tokenized_sentences\n",
    "\n",
    "def train_gensim_model(corpus):\n",
    "    tokenized_sentences=list_of_lists(corpus)\n",
    "    model = Word2Vec(sentences=tokenized_sentences, vector_size=100, window=5, min_count=1, workers=4)\n",
    "    print(tokenized_sentences[:10])\n",
    "    model.build_vocab(tokenized_sentences)\n",
    "    model.train(corpus_iterable=tokenized_sentences,total_examples=model.corpus_count,epochs=30)\n",
    "    return model\n",
    "\n",
    "def read_data(path):\n",
    "    with open(path,'r') as file:\n",
    "        data = json.load(file)\n",
    "    return data\n",
    "\n",
    "def fix_json_file(path):\n",
    "    fixed_file=open(\"fixed_\"+path,\"a\")\n",
    "    fixed_file.write(\"[\\n\")\n",
    "    with open(path,'r') as file:\n",
    "        for line in file:\n",
    "            fixed_file.write(line[:-1]+\",\\n\")\n",
    "    fixed_file.seek(fixed_file.tell()-3)\n",
    "    fixed_file.truncate()\n",
    "    fixed_file.write(\"]\")\n",
    "    fixed_file.close()\n",
    "        "
   ]
  },
  {
   "cell_type": "code",
   "execution_count": 42,
   "metadata": {},
   "outputs": [
    {
     "name": "stdout",
     "output_type": "stream",
     "text": [
      "[['can', 'i', 'have', 'a', 'large', 'bbq', 'pulled', 'pork'], ['large', 'pie', 'with', 'green', 'pepper', 'and', 'with', 'extra', 'peperonni'], ['i', \"'d\", 'like', 'a', 'large', 'vegetarian', 'pizza'], ['party', 'size', 'stuffed', 'crust', 'pie', 'with', 'american', 'cheese', 'and', 'with', 'mushroom'], ['can', 'i', 'have', 'one', 'personal', 'sized', 'artichoke'], ['pie', 'with', 'banana', 'pepper', 'and', 'peppperonis', 'and', 'extra', 'low', 'fat', 'cheese'], ['i', 'want', 'one', 'regular', 'pizza', 'without', 'any', 'fried', 'onions'], ['i', 'want', 'a', 'stuffed', 'crust', 'pizza', 'with', 'american', 'cheese', 'and', 'a', 'little', 'bit', 'of', 'peperonni'], ['can', 'i', 'have', 'one', 'party', 'sized', 'high', 'rise', 'dough', 'pizza', 'with', 'american', 'cheese', 'and', 'a', 'lot', 'of', 'peperonni'], ['pie', 'with', 'green', 'olive', 'and', 'pesto', 'sauce']]\n"
     ]
    }
   ],
   "source": [
    "data=read_data(\"D:/CMP/4/1/NLP/Project/data/fixed_PIZZA_train.json\")\n",
    "corpus=[]\n",
    "for d in data:\n",
    "    corpus.append(d[\"train.SRC\"])\n",
    "model=train_gensim_model(corpus)\n"
   ]
  },
  {
   "cell_type": "code",
   "execution_count": 45,
   "metadata": {},
   "outputs": [
    {
     "name": "stdout",
     "output_type": "stream",
     "text": [
      "dict_keys(['and', 'with', 'a', 'i', 'three', 'pizzas', 'pizza', 'like', \"'d\", 'cheese', 'four', 'pies', 'party', 'five', 'american', 'sized', 'one', 'no', 'of', 'two', 'size', 'sprite', 'pepper', 'glaze', 'without', 'ice', '-', 'large', 'balsamic', 'peppers', 'ounce', 'pie', 'crust', 'tea', 'thin', 'sauce', 'ups', 'extra', 'diet', 'green', 'seven', 'medium', 'also', 'personal', 'roasted', 'red', 'teas', 'ginger', 'pecorino', 'peperonni', 'cans', 'chicken', 'banana', 'need', 'fantas', 'little', 'ale', 'lunch', 'bottle', 'any', '500', 'sprites', '20', 'coke', 'can', 'mozzarella', 'onions', 'want', 'the', 'onion', 'have', 'bit', 'milliliter', 'hold', 'olive', 'just', 'pellegrino', 'pineapple', 'san', 'regular', 'fl', 'liter', 'yellow', 'tomato', 'caramelized', 'ml', 'iced', 'not', 'olives', 'buffalo', 'dried', 'pellegrinos', 'tomatoes', 'eight', 'dr', 'lot', 'fluid', 'pepperoni', 'in', 'small', 'bacon', '200', 'bbq', 'mountain', 'garlic', 'lemon', 'barbecue', 'cherry', '12', 'meatball', 'sausage', 'pesto', '8', '16', 'waters', 'pepsis', 'jalapeno', 'much', 'pestos', 'fried', 'vegan', 'kalamata', '7', 'only', 'peppperoni', 'fanta', 'feta', 'zeros', 'mozarella', 'doctor', 'pulled', 'pork', 'beef', 'grilled', 'hot', 'mushrooms', 'many', 'pepsi', 'parmesan', 'crusts', 'sodas', 'fat', 'low', 'stuffed', 'peper', 'lots', 'perriers', 'ricotta', 'pepers', 'dews', 'pickles', 'white', 'tiny', 'soda', 'dough', 'rise', 'high', 'zeroes', 'peperronni', 'arugula', 'dew', 'black', 'balzamic', 'ales', 'perrier', 'ranch', '500-ml', 'ham', 'hams', 'oz', 'artichoke', 'hate', 'leaves', 'bay', 'alfredo', 'oregano', 'broccoli', '500-milliliter', 'artichokes', 'bottles', 'carrots', 'two-liter', '200-milliliter', 'three-liter', 'powder', 'mushroom', 'peperoni', 'cheddar', 'basil', 'sixteen', 'applewood', 'avoid', 'anchovy', 'chickens', 'cumin', 'apple', 'wood', 'carrot', 'meat', 'peperroni', 'chorizo', 'ground', 'anchovies', 'cheeseburger', 'pickle', 'chorrizo', 'bean', 'brocoli', 'bacons', 'beans', 'big', 'spiced', 'peppperonis', 'tuna', 'spicy', 'salami', 'spinach', 'pepperonis', 'lettuce', 'shrimps', 'italian', 'flakes', 'shrimp', 'rosemary', 'flake', 'pineaples', 'pineapples', 'meatlover', 'pineaple', 'jalapenos', 'peperonis', 'pea', 'parsley', 'peas', 'oil', 'all', 'up', 'thick', 'water', 'new', 'sausages', 'meatballs', 'tunas', '4', '14', 'fifteen', '3', '13', '5', 'twelve', 'six', 'ten', 'thirteen', '2', '11', '15', 'eleven', '9', '6', 'nine', 'fourteen', '10', '1', 'an', 'yorker', 'cokes', 'gluten', 'free', 'sourdough', 'keto', 'combination', 'style', 'chicago', 'lover', 'every', 'lovers', 'cauliflower', 'gluten-free', 'everything', 'deepdish', 'vegetarian', 'zero', 'napolitana', 'margarita', 'neapolitan', 'york', 'veggies', 'meatlovers', 'veggie', 'topping', 'works', 'supreme', 'hawaiian', 'dish', 'margherita', 'deep', 'mexican', 'vegetables', 'toppings', 'mediterranean', 'coffee', 'coffees', 'pan', 'med', 'napolitan'])\n"
     ]
    }
   ],
   "source": [
    "print(model.wv.key_to_index.keys())"
   ]
  },
  {
   "cell_type": "code",
   "execution_count": 47,
   "metadata": {},
   "outputs": [],
   "source": [
    "model.save(\"gensim_w2v\")\n"
   ]
  },
  {
   "cell_type": "code",
   "execution_count": 50,
   "metadata": {},
   "outputs": [],
   "source": [
    "new_model=Word2Vec.load(\"gensim_w2v\")"
   ]
  },
  {
   "cell_type": "code",
   "execution_count": 51,
   "metadata": {},
   "outputs": [
    {
     "data": {
      "text/plain": [
       "dict_keys(['and', 'with', 'a', 'i', 'three', 'pizzas', 'pizza', 'like', \"'d\", 'cheese', 'four', 'pies', 'party', 'five', 'american', 'sized', 'one', 'no', 'of', 'two', 'size', 'sprite', 'pepper', 'glaze', 'without', 'ice', '-', 'large', 'balsamic', 'peppers', 'ounce', 'pie', 'crust', 'tea', 'thin', 'sauce', 'ups', 'extra', 'diet', 'green', 'seven', 'medium', 'also', 'personal', 'roasted', 'red', 'teas', 'ginger', 'pecorino', 'peperonni', 'cans', 'chicken', 'banana', 'need', 'fantas', 'little', 'ale', 'lunch', 'bottle', 'any', '500', 'sprites', '20', 'coke', 'can', 'mozzarella', 'onions', 'want', 'the', 'onion', 'have', 'bit', 'milliliter', 'hold', 'olive', 'just', 'pellegrino', 'pineapple', 'san', 'regular', 'fl', 'liter', 'yellow', 'tomato', 'caramelized', 'ml', 'iced', 'not', 'olives', 'buffalo', 'dried', 'pellegrinos', 'tomatoes', 'eight', 'dr', 'lot', 'fluid', 'pepperoni', 'in', 'small', 'bacon', '200', 'bbq', 'mountain', 'garlic', 'lemon', 'barbecue', 'cherry', '12', 'meatball', 'sausage', 'pesto', '8', '16', 'waters', 'pepsis', 'jalapeno', 'much', 'pestos', 'fried', 'vegan', 'kalamata', '7', 'only', 'peppperoni', 'fanta', 'feta', 'zeros', 'mozarella', 'doctor', 'pulled', 'pork', 'beef', 'grilled', 'hot', 'mushrooms', 'many', 'pepsi', 'parmesan', 'crusts', 'sodas', 'fat', 'low', 'stuffed', 'peper', 'lots', 'perriers', 'ricotta', 'pepers', 'dews', 'pickles', 'white', 'tiny', 'soda', 'dough', 'rise', 'high', 'zeroes', 'peperronni', 'arugula', 'dew', 'black', 'balzamic', 'ales', 'perrier', 'ranch', '500-ml', 'ham', 'hams', 'oz', 'artichoke', 'hate', 'leaves', 'bay', 'alfredo', 'oregano', 'broccoli', '500-milliliter', 'artichokes', 'bottles', 'carrots', 'two-liter', '200-milliliter', 'three-liter', 'powder', 'mushroom', 'peperoni', 'cheddar', 'basil', 'sixteen', 'applewood', 'avoid', 'anchovy', 'chickens', 'cumin', 'apple', 'wood', 'carrot', 'meat', 'peperroni', 'chorizo', 'ground', 'anchovies', 'cheeseburger', 'pickle', 'chorrizo', 'bean', 'brocoli', 'bacons', 'beans', 'big', 'spiced', 'peppperonis', 'tuna', 'spicy', 'salami', 'spinach', 'pepperonis', 'lettuce', 'shrimps', 'italian', 'flakes', 'shrimp', 'rosemary', 'flake', 'pineaples', 'pineapples', 'meatlover', 'pineaple', 'jalapenos', 'peperonis', 'pea', 'parsley', 'peas', 'oil', 'all', 'up', 'thick', 'water', 'new', 'sausages', 'meatballs', 'tunas', '4', '14', 'fifteen', '3', '13', '5', 'twelve', 'six', 'ten', 'thirteen', '2', '11', '15', 'eleven', '9', '6', 'nine', 'fourteen', '10', '1', 'an', 'yorker', 'cokes', 'gluten', 'free', 'sourdough', 'keto', 'combination', 'style', 'chicago', 'lover', 'every', 'lovers', 'cauliflower', 'gluten-free', 'everything', 'deepdish', 'vegetarian', 'zero', 'napolitana', 'margarita', 'neapolitan', 'york', 'veggies', 'meatlovers', 'veggie', 'topping', 'works', 'supreme', 'hawaiian', 'dish', 'margherita', 'deep', 'mexican', 'vegetables', 'toppings', 'mediterranean', 'coffee', 'coffees', 'pan', 'med', 'napolitan'])"
      ]
     },
     "execution_count": 51,
     "metadata": {},
     "output_type": "execute_result"
    }
   ],
   "source": [
    "new_model.wv.key_to_index.keys()"
   ]
  },
  {
   "cell_type": "code",
   "execution_count": null,
   "metadata": {},
   "outputs": [],
   "source": []
  }
 ],
 "metadata": {
  "kernelspec": {
   "display_name": "venv",
   "language": "python",
   "name": "python3"
  },
  "language_info": {
   "codemirror_mode": {
    "name": "ipython",
    "version": 3
   },
   "file_extension": ".py",
   "mimetype": "text/x-python",
   "name": "python",
   "nbconvert_exporter": "python",
   "pygments_lexer": "ipython3",
   "version": "3.12.7"
  }
 },
 "nbformat": 4,
 "nbformat_minor": 2
}
