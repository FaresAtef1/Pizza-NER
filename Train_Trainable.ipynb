{
 "cells": [
  {
   "cell_type": "code",
   "execution_count": 1,
   "metadata": {},
   "outputs": [],
   "source": [
    "import sys\n",
    "import utils\n",
    "import torch\n",
    "import torch.nn as nn\n",
    "from torch.utils.data import DataLoader, Dataset\n",
    "from torch.nn.utils.rnn import pad_sequence\n",
    "import pickle\n",
    "import random\n",
    "import numpy as np"
   ]
  },
  {
   "cell_type": "code",
   "execution_count": null,
   "metadata": {},
   "outputs": [],
   "source": [
    "NER_NUM_CLASSES=23\n",
    "IS_NUM_CLASSES=7\n",
    "BATCH_SIZE=256\n",
    "EPOCHS=10\n",
    "HIDDEN_SIZE = 768\n",
    "VECTOR_SIZE = 768\n",
    "TRAINING_SIZE =500000\n",
    "NUM_LAYERS = 1\n",
    "DROP_OUT=0\n",
    "device = torch.device('cuda' if torch.cuda.is_available() else 'cpu')\n",
    "print('Device is', device)\n",
    "print(\"-------------------------------------------------\")"
   ]
  },
  {
   "cell_type": "code",
   "execution_count": null,
   "metadata": {},
   "outputs": [],
   "source": [
    "complete_data=utils.read_data(\"../data/fixed_PIZZA_train.json\")\n",
    "random.shuffle(complete_data)\n",
    "print('Read Data Done')\n",
    "data = complete_data[:TRAINING_SIZE]\n",
    "corpus, top, decoupled = utils.get_train_dataset(data)\n",
    "ner_train_labels,is_train_labels, input_as_tokenized_string=utils.label_complete_input(corpus, decoupled, top)\n",
    "print('Parse Train Data Done')"
   ]
  },
  {
   "cell_type": "code",
   "execution_count": null,
   "metadata": {},
   "outputs": [],
   "source": [
    "dev_data=utils.read_data(\"../data/fixed_PIZZA_dev.json\")\n",
    "dev_corpus, dev_top = utils.get_dev_dataset(dev_data)\n",
    "ner_dev_labels,is_dev_labels,dev_as_tokenized_string=utils.label_complete_dev(dev_corpus, dev_top)\n",
    "print('Read Dev Data Done')\n",
    "print(\"-------------------------------------------------\")"
   ]
  },
  {
   "cell_type": "code",
   "execution_count": null,
   "metadata": {},
   "outputs": [],
   "source": [
    "flat_list = [word for sublist in input_as_tokenized_string+dev_as_tokenized_string for word in sublist]\n",
    "vocab = sorted(set(flat_list))\n",
    "word_to_index = {word: index for index, word in enumerate(vocab)}\n",
    "# pickle.dump(word_to_index , open('word_to_index.pk1' , 'wb'))\n",
    "print(\"word_to_index Done\")\n",
    "print(\"-------------------------------------------------\")"
   ]
  },
  {
   "cell_type": "code",
   "execution_count": null,
   "metadata": {},
   "outputs": [],
   "source": [
    "zipped_train = list(zip(ner_train_labels,is_train_labels, input_as_tokenized_string))\n",
    "zipped_dev = list(zip(ner_dev_labels,is_dev_labels,dev_as_tokenized_string))\n",
    "train_dev = zipped_train + zipped_dev\n",
    "random.shuffle(train_dev)\n",
    "ner_total_train_labels, is_total_train_labels, total_train_as_tokenized_strings = zip(*train_dev)\n",
    "ner_total_train_labels = list(ner_total_train_labels)\n",
    "is_total_train_labels = list(is_total_train_labels)\n",
    "total_train_as_tokenized_strings = list(total_train_as_tokenized_strings)\n",
    "print(\"Shuffle Train+Dev Done\")"
   ]
  },
  {
   "cell_type": "code",
   "execution_count": null,
   "metadata": {},
   "outputs": [],
   "source": [
    "def data_generator(data, labels, batch_size, word_to_index):\n",
    "    batch = []\n",
    "    for i in range(len(data)):\n",
    "        batch.append((data[i], labels[i]))\n",
    "        \n",
    "        if len(batch) == batch_size:\n",
    "            sequences, labels_batch = zip(*batch)\n",
    "            \n",
    "            embeddings = []\n",
    "            for seq in sequences:\n",
    "                x=[]\n",
    "                for token in seq:\n",
    "                    x.append(word_to_index[token])\n",
    "                x= np.array(x)\n",
    "                embeddings.append(x)\n",
    "            sequences=embeddings\n",
    "            labels_batch = [torch.tensor(label, dtype=torch.long) for label in labels_batch]\n",
    "            padded_labels = pad_sequence(labels_batch, batch_first=True, padding_value=-1)\n",
    "            sequences = [torch.tensor(seq) for seq in sequences]\n",
    "            padded_sequences = pad_sequence(sequences, batch_first=True)\n",
    "\n",
    "            yield padded_sequences, padded_labels\n",
    "\n",
    "            batch = []\n",
    "\n",
    "class LargeWordLSTM(nn.Module):\n",
    "    def __init__(self, vocab_size, embedding_dim,hidden_size, num_classes):\n",
    "        super(LargeWordLSTM, self).__init__()\n",
    "        self.embedding = nn.Embedding(vocab_size, embedding_dim)\n",
    "        self.lstm = nn.LSTM(embedding_dim, hidden_size, batch_first=True, bidirectional=True, num_layers=NUM_LAYERS, dropout=DROP_OUT)\n",
    "        self.fc = nn.Linear(hidden_size * 2, num_classes)\n",
    "\n",
    "    def forward(self, x):\n",
    "        x = self.embedding(x)\n",
    "        lstm_out, _ = self.lstm(x)\n",
    "        out = self.fc(lstm_out)\n",
    "        return out\n",
    "\n",
    "ner_model = LargeWordLSTM(vocab_size=len(word_to_index),embedding_dim=VECTOR_SIZE, hidden_size=HIDDEN_SIZE, num_classes=NER_NUM_CLASSES).to(device)\n",
    "criterion = nn.CrossEntropyLoss(ignore_index=-1)\n",
    "optimizer = torch.optim.Adam(ner_model.parameters(), lr=0.001)  ### NAdam\n",
    "ner_model.train()\n",
    "for epoch in range(EPOCHS):\n",
    "    for padded_sequences, padded_labels in data_generator(total_train_as_tokenized_strings,ner_total_train_labels, BATCH_SIZE, word_to_index):\n",
    "        padded_sequences=padded_sequences.to(device)\n",
    "        padded_labels=padded_labels.to(device)\n",
    "        outputs = ner_model(padded_sequences)\n",
    "        loss = criterion(outputs.view(-1, NER_NUM_CLASSES), padded_labels.view(-1))\n",
    "        optimizer.zero_grad()\n",
    "        loss.backward()\n",
    "        optimizer.step()\n",
    "    print(f\"Epoch {epoch + 1}, Loss: {loss.item():.4f}\")\n",
    "# pickle.dump(ner_model , open('ner_model.pk1' , 'wb'))\n",
    "print('Finish Training, ner_model is saved')"
   ]
  },
  {
   "cell_type": "code",
   "execution_count": null,
   "metadata": {},
   "outputs": [],
   "source": [
    "is_model = LargeWordLSTM(vocab_size=len(word_to_index),embedding_dim=VECTOR_SIZE, hidden_size=HIDDEN_SIZE, num_classes=IS_NUM_CLASSES).to(device)\n",
    "criterion = nn.CrossEntropyLoss(ignore_index=-1)\n",
    "optimizer = torch.optim.Adam(is_model.parameters(), lr=0.001)\n",
    "is_model.train()\n",
    "for epoch in range(EPOCHS):\n",
    "    for padded_sequences, padded_labels in data_generator(total_train_as_tokenized_strings, is_total_train_labels, BATCH_SIZE, word_to_index):\n",
    "        padded_sequences=padded_sequences.to(device)\n",
    "        padded_labels=padded_labels.to(device)\n",
    "        outputs = is_model(padded_sequences)\n",
    "        loss = criterion(outputs.view(-1, IS_NUM_CLASSES), padded_labels.view(-1))\n",
    "        optimizer.zero_grad()\n",
    "        loss.backward()\n",
    "        optimizer.step()\n",
    "    print(f\"Epoch {epoch + 1}, Loss: {loss.item():.4f}\")\n",
    "# pickle.dump(is_model , open('is_model.pk1' , 'wb'))\n",
    "print('Finish Training, is_model is saved')"
   ]
  }
 ],
 "metadata": {
  "kernelspec": {
   "display_name": "Python 3",
   "language": "python",
   "name": "python3"
  },
  "language_info": {
   "codemirror_mode": {
    "name": "ipython",
    "version": 3
   },
   "file_extension": ".py",
   "mimetype": "text/x-python",
   "name": "python",
   "nbconvert_exporter": "python",
   "pygments_lexer": "ipython3",
   "version": "3.11.0"
  }
 },
 "nbformat": 4,
 "nbformat_minor": 2
}
