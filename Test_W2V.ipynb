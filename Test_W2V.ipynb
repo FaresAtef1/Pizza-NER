{
 "cells": [
  {
   "cell_type": "code",
   "execution_count": null,
   "metadata": {},
   "outputs": [],
   "source": [
    "import pickle\n",
    "import torch\n",
    "import torch.nn as nn\n",
    "from torch.utils.data import DataLoader, Dataset\n",
    "from torch.nn.utils.rnn import pad_sequence, pack_padded_sequence, pad_packed_sequence\n",
    "import pickle\n",
    "from gensim.models import Word2Vec, FastText  # For Word2Vec model\n",
    "import random\n",
    "import numpy as np\n",
    "import utils\n",
    "\n",
    "device = torch.device('cuda' if torch.cuda.is_available() else 'cpu')\n",
    "print('Device is', device)\n",
    "\n",
    "NER_NUM_CLASSES=23\n",
    "IS_NUM_CLASSES=7\n",
    "BATCH_SIZE=256\n",
    "EPOCHS=12 \n",
    "HIDDEN_SIZE=768\n",
    "VECTOR_SIZE = 200\n",
    "TRAINING_SIZE = 300000\n",
    "NUM_LAYERS=1"
   ]
  },
  {
   "cell_type": "code",
   "execution_count": 18,
   "metadata": {},
   "outputs": [],
   "source": [
    "import csv\n",
    "\n",
    "def get_test_dataset_from_csv(file_path):\n",
    "    dataset = []\n",
    "    with open(file_path, mode='r', encoding='utf-8') as file:\n",
    "        reader = csv.DictReader(file)\n",
    "        for row in reader:\n",
    "            dataset.append((row[\"id\"], row[\"order\"]))\n",
    "    return dataset\n",
    "\n",
    "testset = get_test_dataset_from_csv(\"../data/del.csv\")\n",
    "test_as_tokenized_string = []\n",
    "for i in range(len(testset)):\n",
    "    test_as_tokenized_string.append(utils.tokenize_string(testset[i][1]))"
   ]
  },
  {
   "cell_type": "code",
   "execution_count": 19,
   "metadata": {},
   "outputs": [],
   "source": [
    "unstemmed_test_as_tokenized_string = []\n",
    "for i in range(len(testset)):\n",
    "    unstemmed_test_as_tokenized_string.append((testset[i][0],utils.tokenize_string_bert((testset[i][1]))))"
   ]
  },
  {
   "cell_type": "code",
   "execution_count": 20,
   "metadata": {},
   "outputs": [],
   "source": [
    "class LargeWordLSTM(nn.Module):\n",
    "    def __init__(self, embedding_dim,hidden_size, num_classes):\n",
    "        super(LargeWordLSTM, self).__init__()\n",
    "        self.lstm = nn.LSTM(embedding_dim, hidden_size, batch_first=True, bidirectional=True, num_layers=NUM_LAYERS)\n",
    "        self.fc = nn.Linear(hidden_size * 2, num_classes)\n",
    "\n",
    "    def forward(self, x):\n",
    "        lstm_out, _ = self.lstm(x)\n",
    "        out = self.fc(lstm_out)\n",
    "        return out\n",
    "    \n",
    "pickle_file_path1 = \"../models/is_model_train_dev.pk1\"\n",
    "with open(pickle_file_path1, \"rb\") as file1:\n",
    "    is_model = pickle.load(file1)\n",
    "\n",
    "pickle_file_path2 = \"../models/ner_model_train_dev.pk1\"\n",
    "with open(pickle_file_path2, \"rb\") as file2:\n",
    "    ner_model = pickle.load(file2)\n",
    "\n",
    "emb_model_path = '../models/word2vec_with_dev.model'\n",
    "emb_model = Word2Vec.load(emb_model_path)"
   ]
  },
  {
   "cell_type": "code",
   "execution_count": 21,
   "metadata": {},
   "outputs": [],
   "source": [
    "class TestLargeDataset(Dataset):\n",
    "    def __init__(self, data):\n",
    "        self.data = data \n",
    "    \n",
    "    def __len__(self):\n",
    "        return len(self.data)\n",
    "    \n",
    "    def __getitem__(self, idx):\n",
    "        return self.data[idx]\n",
    "\n",
    "from difflib import SequenceMatcher\n",
    "def find_nearest_embedding(token, emb_model):\n",
    "    def letter_difference(word1, word2):\n",
    "        return 1 - SequenceMatcher(None, word1, word2).ratio()\n",
    "\n",
    "    nearest_word = min(emb_model.wv.key_to_index.keys(), key=lambda word: letter_difference(token, word))\n",
    "    return emb_model.wv[nearest_word]\n",
    "\n",
    "def test_collate_fn(batch):\n",
    "    sequences = batch\n",
    "    embeddings=[]\n",
    "    for seq in sequences:\n",
    "        x=[]\n",
    "        for token in seq:\n",
    "            if token not in emb_model.wv.key_to_index:\n",
    "                x.append(find_nearest_embedding(token, emb_model))\n",
    "            else: x.append(emb_model.wv[token])\n",
    "        embeddings.append(np.array(x))\n",
    "    sequences=embeddings\n",
    "    sequences = [torch.tensor(seq) for seq in sequences]\n",
    "    padded_sequences = pad_sequence(sequences, batch_first=True)\n",
    "    return padded_sequences"
   ]
  },
  {
   "cell_type": "code",
   "execution_count": null,
   "metadata": {},
   "outputs": [],
   "source": [
    "test_dataset = TestLargeDataset(test_as_tokenized_string)\n",
    "dataloader = DataLoader(test_dataset, batch_size=1, collate_fn=test_collate_fn, shuffle=False, num_workers=0)\n",
    "ner_model_output=[]\n",
    "ner_model.eval()\n",
    "with torch.no_grad():\n",
    "    for padded_sequences in dataloader:\n",
    "        labels = []\n",
    "        padded_sequences=padded_sequences.to(device)\n",
    "        outputs = ner_model(padded_sequences)\n",
    "        for i, out in enumerate(outputs[0]):\n",
    "            num = torch.argmax(out).int().item()\n",
    "            labels.append(num)\n",
    "        ner_model_output.append(labels)"
   ]
  },
  {
   "cell_type": "code",
   "execution_count": 23,
   "metadata": {},
   "outputs": [],
   "source": [
    "is_model.eval()\n",
    "is_model_output=[]\n",
    "test_dataset = TestLargeDataset(test_as_tokenized_string)\n",
    "test_dataloader = DataLoader(test_dataset, batch_size=1, collate_fn=test_collate_fn, shuffle=False, num_workers=0)\n",
    "with torch.no_grad():\n",
    "    for padded_sequences in dataloader:\n",
    "        labels = []\n",
    "        padded_sequences=padded_sequences.to(device)\n",
    "        outputs = is_model(padded_sequences)\n",
    "        for i, out in enumerate(outputs[0]):\n",
    "            num = torch.argmax(out).int().item()\n",
    "            labels.append(num)\n",
    "        is_model_output.append(labels)\n",
    "is_model_output = utils.intent_post_processing(is_model_output)\n",
    "is_model_output = utils.intent_post_processing_extra(is_model_output)\n",
    "is_model_output = utils.intent_post_processing2(is_model_output, ner_model_output)"
   ]
  },
  {
   "cell_type": "code",
   "execution_count": 24,
   "metadata": {},
   "outputs": [],
   "source": [
    "import csv\n",
    "import reformat_results\n",
    "def jsons_to_csv(input_tokens,ner_out, is_out):\n",
    "    with open(\"../data/sample.csv\", mode=\"w\", newline='', encoding=\"utf-8\") as csvfile:\n",
    "        csv_writer = csv.writer(csvfile)\n",
    "        csv_writer.writerow([\"id\",\"output\"])\n",
    "        for i in range(len(ner_out)):\n",
    "            file1 = \"file1.json\"\n",
    "            test_tree = utils.convert_to_json (file1,input_tokens[i][1], ner_out[i], is_out[i])\n",
    "            top = reformat_results.parse_tree(test_tree)\n",
    "            csv_writer.writerow([input_tokens[i][0],top])\n",
    "\n",
    "jsons_to_csv(unstemmed_test_as_tokenized_string,ner_model_output,is_model_output)"
   ]
  },
  {
   "cell_type": "code",
   "execution_count": null,
   "metadata": {},
   "outputs": [],
   "source": []
  }
 ],
 "metadata": {
  "kernelspec": {
   "display_name": "Python 3",
   "language": "python",
   "name": "python3"
  },
  "language_info": {
   "codemirror_mode": {
    "name": "ipython",
    "version": 3
   },
   "file_extension": ".py",
   "mimetype": "text/x-python",
   "name": "python",
   "nbconvert_exporter": "python",
   "pygments_lexer": "ipython3",
   "version": "3.11.0"
  }
 },
 "nbformat": 4,
 "nbformat_minor": 2
}
