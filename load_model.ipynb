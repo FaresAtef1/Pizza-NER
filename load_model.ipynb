{
 "cells": [
  {
   "cell_type": "code",
   "execution_count": null,
   "metadata": {},
   "outputs": [],
   "source": [
    "import pickle\n",
    "import torch\n",
    "import torch.nn as nn\n",
    "from torch.utils.data import DataLoader, Dataset\n",
    "from torch.nn.utils.rnn import pad_sequence, pack_padded_sequence, pad_packed_sequence\n",
    "import pickle\n",
    "from gensim.models import Word2Vec, FastText  # For Word2Vec model\n",
    "import random\n",
    "import numpy as np\n",
    "import utils\n",
    "# ! pip3 install torch torchvision torchaudio --index-url https://download.pytorch.org/whl/cu118\n",
    "\n",
    "device = torch.device('cuda' if torch.cuda.is_available() else 'cpu')\n",
    "print('Device is', device)\n",
    "\n",
    "\n",
    "NUM_CLASSES=23\n",
    "BATCH_SIZE=256\n",
    "EPOCHS=10\n",
    "HIDDEN_SIZE = 768\n",
    "VECTOR_SIZE = 768\n",
    "TRAINING_SIZE =500000\n",
    "NUM_LAYERS = 1\n",
    "DROP_OUT=0"
   ]
  },
  {
   "cell_type": "code",
   "execution_count": null,
   "metadata": {},
   "outputs": [],
   "source": [
    "dev_data=utils.read_data(\"../data/fixed_PIZZA_dev.json\")\n",
    "dev_corpus, dev_top = utils.get_dev_dataset(dev_data)\n",
    "ner_dev_labels,is_dev_labels,dev_as_tokenized_string=utils.label_complete_dev(dev_corpus, dev_top)\n",
    "print('Parse Dev Data Done')"
   ]
  },
  {
   "cell_type": "code",
   "execution_count": 47,
   "metadata": {},
   "outputs": [],
   "source": [
    "class LargeWordRNN(nn.Module):\n",
    "    def __init__(self, vocab_size, embedding_dim,hidden_size, num_classes):\n",
    "        super(LargeWordRNN, self).__init__()\n",
    "        self.embedding = nn.Embedding(vocab_size, embedding_dim)\n",
    "        self.rnn = nn.LSTM(embedding_dim, hidden_size, batch_first=True, bidirectional=True, num_layers=NUM_LAYERS, dropout=DROP_OUT)\n",
    "        self.fc = nn.Linear(hidden_size * 2, num_classes)\n",
    "\n",
    "    def forward(self, x):\n",
    "        x = self.embedding(x)\n",
    "        lstm_out, _ = self.rnn(x)\n",
    "        out = self.fc(lstm_out)\n",
    "        return out\n",
    "\n",
    "pickle_file_path1 = \"../models/is_model.pk1\"\n",
    "with open(pickle_file_path1, \"rb\") as file1:\n",
    "    is_model = pickle.load(file1)\n",
    "\n",
    "\n",
    "pickle_file_path2 = \"../models/word_to_index.pk1\"\n",
    "with open(pickle_file_path2, \"rb\") as file2:\n",
    "    word_to_index = pickle.load(file2)"
   ]
  },
  {
   "cell_type": "code",
   "execution_count": 48,
   "metadata": {},
   "outputs": [],
   "source": [
    "class TestLargeDataset(Dataset):\n",
    "    def __init__(self, data):\n",
    "        self.data = data \n",
    "    \n",
    "    def __len__(self):\n",
    "        return len(self.data)\n",
    "    \n",
    "    def __getitem__(self, idx):\n",
    "        return self.data[idx]\n",
    "\n",
    "def test_collate_fn(batch):\n",
    "    sequences = batch\n",
    "    embeddings=[]\n",
    "    for seq in sequences:\n",
    "        x=[]\n",
    "        for token in seq:\n",
    "            if token not in word_to_index:\n",
    "                x.append(word_to_index['i'])\n",
    "            else:\n",
    "                x.append(word_to_index[token])\n",
    "        embeddings.append(x)\n",
    "    sequences=embeddings\n",
    "    sequences = [torch.tensor(seq) for seq in sequences]\n",
    "    padded_sequences = pad_sequence(sequences, batch_first=True)\n",
    "    return padded_sequences\n",
    "dev_dataset = TestLargeDataset(dev_as_tokenized_string)\n",
    "dataloader = DataLoader(dev_dataset, batch_size=1, collate_fn=test_collate_fn, shuffle=False, num_workers=0)"
   ]
  },
  {
   "cell_type": "code",
   "execution_count": null,
   "metadata": {},
   "outputs": [],
   "source": [
    "is_model_output=[]\n",
    "\n",
    "is_model.eval()\n",
    "with torch.no_grad():\n",
    "    for padded_sequences in dataloader:\n",
    "        labels = []\n",
    "        padded_sequences=padded_sequences.to(device)\n",
    "        outputs = is_model(padded_sequences)\n",
    "        intent_to_num = {\"I_PIZZAORDER\": 0, \"I_DRINKORDER\": 1, \"I_COMPLEX_TOPPING\": 2, \"B_PIZZAORDER\": 3, \"B_DRINKORDER\": 4, \"B_COMPLEX_TOPPING\": 5, \"NONE\": 6}\n",
    "        for i, out in enumerate(outputs[0]):\n",
    "            num = torch.argmax(out).int().item()\n",
    "            labels.append(num)\n",
    "        is_model_output.append(labels)\n",
    "\n",
    "confusion_matrix, accuracy,exact_accuracy=utils.calc_accuracy(dev_corpus, is_model_output, is_dev_labels, 7)\n",
    "print(\"word accuracy:\",accuracy*100,\"EM\",exact_accuracy*100)\n",
    "is_model_output = utils.intent_post_processing(dev_corpus,is_model_output)\n",
    "confusion_matrix, accuracy,exact_accuracy=utils.calc_accuracy(dev_corpus, is_model_output, is_dev_labels, 7)\n",
    "print(\"word accuracy:\",accuracy*100,\"EM\",exact_accuracy*100)"
   ]
  }
 ],
 "metadata": {
  "kernelspec": {
   "display_name": "Python 3",
   "language": "python",
   "name": "python3"
  },
  "language_info": {
   "codemirror_mode": {
    "name": "ipython",
    "version": 3
   },
   "file_extension": ".py",
   "mimetype": "text/x-python",
   "name": "python",
   "nbconvert_exporter": "python",
   "pygments_lexer": "ipython3",
   "version": "3.11.0"
  }
 },
 "nbformat": 4,
 "nbformat_minor": 2
}
