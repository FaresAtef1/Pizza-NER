{
 "cells": [
  {
   "cell_type": "code",
   "execution_count": 1,
   "metadata": {},
   "outputs": [],
   "source": [
    "import sys\n",
    "import utils\n",
    "sys.path.append('pizza/utils')\n",
    "from trees import TopSemanticTree, ExpressSemanticTree\n",
    "from semantic_matchers import is_unordered_exact_match, is_semantics_only_unordered_exact_match, \\\n",
    "                              is_semantics_only_unordered_exact_match_post_ER, is_unordered_exact_match_post_ER, is_semantics_only_unordered_exact_match_post_ER_top_top\n",
    "from entity_resolution import PizzaSkillEntityResolver"
   ]
  },
  {
   "cell_type": "code",
   "execution_count": 2,
   "metadata": {},
   "outputs": [],
   "source": [
    "top_pred_string_same = \"(ORDER (PIZZAORDER (NUMBER five ) any text (SIZE medium ) (TOPPING hammm ) (TOPPING hamm ) nnn ) )\"\n",
    "exr_string = \"(ORDER (PIZZAORDER (NUMBER five ) (SIZE mediu ) (TOPPING HAM ) (TOPPING hamm ) nnn ) )\""
   ]
  },
  {
   "cell_type": "code",
   "execution_count": 3,
   "metadata": {},
   "outputs": [
    {
     "data": {
      "text/plain": [
       "1.0"
      ]
     },
     "execution_count": 3,
     "metadata": {},
     "output_type": "execute_result"
    }
   ],
   "source": [
    "resolver = PizzaSkillEntityResolver()\n",
    "is_semantics_only_unordered_exact_match_post_ER_top_top(top_pred_string_same, exr_string, resolver)"
   ]
  }
 ],
 "metadata": {
  "kernelspec": {
   "display_name": "Python 3",
   "language": "python",
   "name": "python3"
  },
  "language_info": {
   "codemirror_mode": {
    "name": "ipython",
    "version": 3
   },
   "file_extension": ".py",
   "mimetype": "text/x-python",
   "name": "python",
   "nbconvert_exporter": "python",
   "pygments_lexer": "ipython3",
   "version": "3.11.0"
  }
 },
 "nbformat": 4,
 "nbformat_minor": 2
}
